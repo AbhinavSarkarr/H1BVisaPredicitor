{
 "cells": [
  {
   "cell_type": "code",
   "execution_count": 1,
   "id": "16e8b776",
   "metadata": {},
   "outputs": [],
   "source": [
    "import numpy as np\n",
    "import pandas as pd\n",
    "import matplotlib.pyplot as plt\n",
    "import seaborn as sns\n",
    "from sklearn.model_selection import train_test_split\n",
    "from sklearn.linear_model import LogisticRegression\n",
    "from sklearn.metrics import confusion_matrix, classification_report\n",
    "import re"
   ]
  },
  {
   "cell_type": "code",
   "execution_count": 2,
   "id": "60cfaa1e",
   "metadata": {},
   "outputs": [
    {
     "data": {
      "text/html": [
       "<div>\n",
       "<style scoped>\n",
       "    .dataframe tbody tr th:only-of-type {\n",
       "        vertical-align: middle;\n",
       "    }\n",
       "\n",
       "    .dataframe tbody tr th {\n",
       "        vertical-align: top;\n",
       "    }\n",
       "\n",
       "    .dataframe thead th {\n",
       "        text-align: right;\n",
       "    }\n",
       "</style>\n",
       "<table border=\"1\" class=\"dataframe\">\n",
       "  <thead>\n",
       "    <tr style=\"text-align: right;\">\n",
       "      <th></th>\n",
       "      <th>Unnamed: 0</th>\n",
       "      <th>CASE_STATUS</th>\n",
       "      <th>EMPLOYER_NAME</th>\n",
       "      <th>SOC_NAME</th>\n",
       "      <th>JOB_TITLE</th>\n",
       "      <th>FULL_TIME_POSITION</th>\n",
       "      <th>PREVAILING_WAGE</th>\n",
       "      <th>YEAR</th>\n",
       "      <th>WORKSITE</th>\n",
       "      <th>lon</th>\n",
       "      <th>lat</th>\n",
       "    </tr>\n",
       "  </thead>\n",
       "  <tbody>\n",
       "    <tr>\n",
       "      <th>0</th>\n",
       "      <td>1</td>\n",
       "      <td>CERTIFIED-WITHDRAWN</td>\n",
       "      <td>UNIVERSITY OF MICHIGAN</td>\n",
       "      <td>BIOCHEMISTS AND BIOPHYSICISTS</td>\n",
       "      <td>POSTDOCTORAL RESEARCH FELLOW</td>\n",
       "      <td>N</td>\n",
       "      <td>36067.0</td>\n",
       "      <td>2016.0</td>\n",
       "      <td>ANN ARBOR, MICHIGAN</td>\n",
       "      <td>-83.743038</td>\n",
       "      <td>42.280826</td>\n",
       "    </tr>\n",
       "    <tr>\n",
       "      <th>1</th>\n",
       "      <td>2</td>\n",
       "      <td>CERTIFIED-WITHDRAWN</td>\n",
       "      <td>GOODMAN NETWORKS, INC.</td>\n",
       "      <td>CHIEF EXECUTIVES</td>\n",
       "      <td>CHIEF OPERATING OFFICER</td>\n",
       "      <td>Y</td>\n",
       "      <td>242674.0</td>\n",
       "      <td>2016.0</td>\n",
       "      <td>PLANO, TEXAS</td>\n",
       "      <td>-96.698886</td>\n",
       "      <td>33.019843</td>\n",
       "    </tr>\n",
       "    <tr>\n",
       "      <th>2</th>\n",
       "      <td>3</td>\n",
       "      <td>CERTIFIED-WITHDRAWN</td>\n",
       "      <td>PORTS AMERICA GROUP, INC.</td>\n",
       "      <td>CHIEF EXECUTIVES</td>\n",
       "      <td>CHIEF PROCESS OFFICER</td>\n",
       "      <td>Y</td>\n",
       "      <td>193066.0</td>\n",
       "      <td>2016.0</td>\n",
       "      <td>JERSEY CITY, NEW JERSEY</td>\n",
       "      <td>-74.077642</td>\n",
       "      <td>40.728158</td>\n",
       "    </tr>\n",
       "    <tr>\n",
       "      <th>3</th>\n",
       "      <td>4</td>\n",
       "      <td>CERTIFIED-WITHDRAWN</td>\n",
       "      <td>GATES CORPORATION, A WHOLLY-OWNED SUBSIDIARY O...</td>\n",
       "      <td>CHIEF EXECUTIVES</td>\n",
       "      <td>REGIONAL PRESIDEN, AMERICAS</td>\n",
       "      <td>Y</td>\n",
       "      <td>220314.0</td>\n",
       "      <td>2016.0</td>\n",
       "      <td>DENVER, COLORADO</td>\n",
       "      <td>-104.990251</td>\n",
       "      <td>39.739236</td>\n",
       "    </tr>\n",
       "    <tr>\n",
       "      <th>4</th>\n",
       "      <td>5</td>\n",
       "      <td>WITHDRAWN</td>\n",
       "      <td>PEABODY INVESTMENTS CORP.</td>\n",
       "      <td>CHIEF EXECUTIVES</td>\n",
       "      <td>PRESIDENT MONGOLIA AND INDIA</td>\n",
       "      <td>Y</td>\n",
       "      <td>157518.4</td>\n",
       "      <td>2016.0</td>\n",
       "      <td>ST. LOUIS, MISSOURI</td>\n",
       "      <td>-90.199404</td>\n",
       "      <td>38.627003</td>\n",
       "    </tr>\n",
       "  </tbody>\n",
       "</table>\n",
       "</div>"
      ],
      "text/plain": [
       "   Unnamed: 0          CASE_STATUS  \\\n",
       "0           1  CERTIFIED-WITHDRAWN   \n",
       "1           2  CERTIFIED-WITHDRAWN   \n",
       "2           3  CERTIFIED-WITHDRAWN   \n",
       "3           4  CERTIFIED-WITHDRAWN   \n",
       "4           5            WITHDRAWN   \n",
       "\n",
       "                                       EMPLOYER_NAME  \\\n",
       "0                             UNIVERSITY OF MICHIGAN   \n",
       "1                             GOODMAN NETWORKS, INC.   \n",
       "2                          PORTS AMERICA GROUP, INC.   \n",
       "3  GATES CORPORATION, A WHOLLY-OWNED SUBSIDIARY O...   \n",
       "4                          PEABODY INVESTMENTS CORP.   \n",
       "\n",
       "                        SOC_NAME                     JOB_TITLE  \\\n",
       "0  BIOCHEMISTS AND BIOPHYSICISTS  POSTDOCTORAL RESEARCH FELLOW   \n",
       "1               CHIEF EXECUTIVES       CHIEF OPERATING OFFICER   \n",
       "2               CHIEF EXECUTIVES         CHIEF PROCESS OFFICER   \n",
       "3               CHIEF EXECUTIVES   REGIONAL PRESIDEN, AMERICAS   \n",
       "4               CHIEF EXECUTIVES  PRESIDENT MONGOLIA AND INDIA   \n",
       "\n",
       "  FULL_TIME_POSITION  PREVAILING_WAGE    YEAR                 WORKSITE  \\\n",
       "0                  N          36067.0  2016.0      ANN ARBOR, MICHIGAN   \n",
       "1                  Y         242674.0  2016.0             PLANO, TEXAS   \n",
       "2                  Y         193066.0  2016.0  JERSEY CITY, NEW JERSEY   \n",
       "3                  Y         220314.0  2016.0         DENVER, COLORADO   \n",
       "4                  Y         157518.4  2016.0      ST. LOUIS, MISSOURI   \n",
       "\n",
       "          lon        lat  \n",
       "0  -83.743038  42.280826  \n",
       "1  -96.698886  33.019843  \n",
       "2  -74.077642  40.728158  \n",
       "3 -104.990251  39.739236  \n",
       "4  -90.199404  38.627003  "
      ]
     },
     "execution_count": 2,
     "metadata": {},
     "output_type": "execute_result"
    }
   ],
   "source": [
    "df = pd.read_csv(\"D:\\\\PBL_2\\\\h1b\\\\h1b_kaggle.csv\\\\h1b_kaggle.csv\")\n",
    "df.head()"
   ]
  },
  {
   "cell_type": "code",
   "execution_count": 3,
   "id": "0929338f",
   "metadata": {},
   "outputs": [
    {
     "data": {
      "text/html": [
       "<div>\n",
       "<style scoped>\n",
       "    .dataframe tbody tr th:only-of-type {\n",
       "        vertical-align: middle;\n",
       "    }\n",
       "\n",
       "    .dataframe tbody tr th {\n",
       "        vertical-align: top;\n",
       "    }\n",
       "\n",
       "    .dataframe thead th {\n",
       "        text-align: right;\n",
       "    }\n",
       "</style>\n",
       "<table border=\"1\" class=\"dataframe\">\n",
       "  <thead>\n",
       "    <tr style=\"text-align: right;\">\n",
       "      <th></th>\n",
       "      <th>Unnamed: 0</th>\n",
       "      <th>CASE_STATUS</th>\n",
       "      <th>EMPLOYER_NAME</th>\n",
       "      <th>SOC_NAME</th>\n",
       "      <th>JOB_TITLE</th>\n",
       "      <th>FULL_TIME_POSITION</th>\n",
       "      <th>PREVAILING_WAGE</th>\n",
       "      <th>YEAR</th>\n",
       "      <th>WORKSITE</th>\n",
       "      <th>lon</th>\n",
       "      <th>lat</th>\n",
       "    </tr>\n",
       "  </thead>\n",
       "  <tbody>\n",
       "    <tr>\n",
       "      <th>3002453</th>\n",
       "      <td>3002454</td>\n",
       "      <td>NaN</td>\n",
       "      <td>NaN</td>\n",
       "      <td>NaN</td>\n",
       "      <td>NaN</td>\n",
       "      <td>NaN</td>\n",
       "      <td>NaN</td>\n",
       "      <td>NaN</td>\n",
       "      <td>NYC, NEW YORK</td>\n",
       "      <td>-74.005941</td>\n",
       "      <td>40.712784</td>\n",
       "    </tr>\n",
       "    <tr>\n",
       "      <th>3002454</th>\n",
       "      <td>3002455</td>\n",
       "      <td>NaN</td>\n",
       "      <td>NaN</td>\n",
       "      <td>NaN</td>\n",
       "      <td>NaN</td>\n",
       "      <td>NaN</td>\n",
       "      <td>NaN</td>\n",
       "      <td>NaN</td>\n",
       "      <td>SOUTH LAKE, TEXAS</td>\n",
       "      <td>-97.134178</td>\n",
       "      <td>32.941236</td>\n",
       "    </tr>\n",
       "    <tr>\n",
       "      <th>3002455</th>\n",
       "      <td>3002456</td>\n",
       "      <td>NaN</td>\n",
       "      <td>NaN</td>\n",
       "      <td>NaN</td>\n",
       "      <td>NaN</td>\n",
       "      <td>NaN</td>\n",
       "      <td>NaN</td>\n",
       "      <td>NaN</td>\n",
       "      <td>CLINTON, NEW JERSEY</td>\n",
       "      <td>-74.909890</td>\n",
       "      <td>40.636768</td>\n",
       "    </tr>\n",
       "    <tr>\n",
       "      <th>3002456</th>\n",
       "      <td>3002457</td>\n",
       "      <td>NaN</td>\n",
       "      <td>NaN</td>\n",
       "      <td>NaN</td>\n",
       "      <td>NaN</td>\n",
       "      <td>NaN</td>\n",
       "      <td>NaN</td>\n",
       "      <td>NaN</td>\n",
       "      <td>OWINGS MILL, MARYLAND</td>\n",
       "      <td>-76.780253</td>\n",
       "      <td>39.419550</td>\n",
       "    </tr>\n",
       "    <tr>\n",
       "      <th>3002457</th>\n",
       "      <td>3002458</td>\n",
       "      <td>NaN</td>\n",
       "      <td>NaN</td>\n",
       "      <td>NaN</td>\n",
       "      <td>NaN</td>\n",
       "      <td>NaN</td>\n",
       "      <td>NaN</td>\n",
       "      <td>NaN</td>\n",
       "      <td>ALTANTA, GEORGIA</td>\n",
       "      <td>-84.387982</td>\n",
       "      <td>33.748995</td>\n",
       "    </tr>\n",
       "  </tbody>\n",
       "</table>\n",
       "</div>"
      ],
      "text/plain": [
       "         Unnamed: 0 CASE_STATUS EMPLOYER_NAME SOC_NAME JOB_TITLE  \\\n",
       "3002453     3002454         NaN           NaN      NaN       NaN   \n",
       "3002454     3002455         NaN           NaN      NaN       NaN   \n",
       "3002455     3002456         NaN           NaN      NaN       NaN   \n",
       "3002456     3002457         NaN           NaN      NaN       NaN   \n",
       "3002457     3002458         NaN           NaN      NaN       NaN   \n",
       "\n",
       "        FULL_TIME_POSITION  PREVAILING_WAGE  YEAR               WORKSITE  \\\n",
       "3002453                NaN              NaN   NaN          NYC, NEW YORK   \n",
       "3002454                NaN              NaN   NaN      SOUTH LAKE, TEXAS   \n",
       "3002455                NaN              NaN   NaN    CLINTON, NEW JERSEY   \n",
       "3002456                NaN              NaN   NaN  OWINGS MILL, MARYLAND   \n",
       "3002457                NaN              NaN   NaN       ALTANTA, GEORGIA   \n",
       "\n",
       "               lon        lat  \n",
       "3002453 -74.005941  40.712784  \n",
       "3002454 -97.134178  32.941236  \n",
       "3002455 -74.909890  40.636768  \n",
       "3002456 -76.780253  39.419550  \n",
       "3002457 -84.387982  33.748995  "
      ]
     },
     "execution_count": 3,
     "metadata": {},
     "output_type": "execute_result"
    }
   ],
   "source": [
    "df.tail()"
   ]
  },
  {
   "cell_type": "code",
   "execution_count": 4,
   "id": "0a1ea97a",
   "metadata": {},
   "outputs": [
    {
     "data": {
      "text/plain": [
       "(3002458, 11)"
      ]
     },
     "execution_count": 4,
     "metadata": {},
     "output_type": "execute_result"
    }
   ],
   "source": [
    "df.shape"
   ]
  },
  {
   "cell_type": "markdown",
   "id": "071d3042",
   "metadata": {},
   "source": [
    "# UNIVARIATE ANALYSIS"
   ]
  },
  {
   "cell_type": "code",
   "execution_count": 5,
   "id": "e42da02d",
   "metadata": {},
   "outputs": [
    {
     "data": {
      "text/plain": [
       "Unnamed: 0              int64\n",
       "CASE_STATUS            object\n",
       "EMPLOYER_NAME          object\n",
       "SOC_NAME               object\n",
       "JOB_TITLE              object\n",
       "FULL_TIME_POSITION     object\n",
       "PREVAILING_WAGE       float64\n",
       "YEAR                  float64\n",
       "WORKSITE               object\n",
       "lon                   float64\n",
       "lat                   float64\n",
       "dtype: object"
      ]
     },
     "execution_count": 5,
     "metadata": {},
     "output_type": "execute_result"
    }
   ],
   "source": [
    "df.dtypes"
   ]
  },
  {
   "cell_type": "code",
   "execution_count": 6,
   "id": "951e4ef5",
   "metadata": {},
   "outputs": [
    {
     "data": {
      "text/html": [
       "<div>\n",
       "<style scoped>\n",
       "    .dataframe tbody tr th:only-of-type {\n",
       "        vertical-align: middle;\n",
       "    }\n",
       "\n",
       "    .dataframe tbody tr th {\n",
       "        vertical-align: top;\n",
       "    }\n",
       "\n",
       "    .dataframe thead th {\n",
       "        text-align: right;\n",
       "    }\n",
       "</style>\n",
       "<table border=\"1\" class=\"dataframe\">\n",
       "  <thead>\n",
       "    <tr style=\"text-align: right;\">\n",
       "      <th></th>\n",
       "      <th>Unnamed: 0</th>\n",
       "      <th>PREVAILING_WAGE</th>\n",
       "      <th>YEAR</th>\n",
       "      <th>lon</th>\n",
       "      <th>lat</th>\n",
       "    </tr>\n",
       "  </thead>\n",
       "  <tbody>\n",
       "    <tr>\n",
       "      <th>count</th>\n",
       "      <td>3.002458e+06</td>\n",
       "      <td>3.002373e+06</td>\n",
       "      <td>3.002445e+06</td>\n",
       "      <td>2.895216e+06</td>\n",
       "      <td>2.895216e+06</td>\n",
       "    </tr>\n",
       "    <tr>\n",
       "      <th>mean</th>\n",
       "      <td>1.501230e+06</td>\n",
       "      <td>1.469984e+05</td>\n",
       "      <td>2.013855e+03</td>\n",
       "      <td>-9.213441e+01</td>\n",
       "      <td>3.816054e+01</td>\n",
       "    </tr>\n",
       "    <tr>\n",
       "      <th>std</th>\n",
       "      <td>8.667351e+05</td>\n",
       "      <td>5.287609e+06</td>\n",
       "      <td>1.680612e+00</td>\n",
       "      <td>1.965591e+01</td>\n",
       "      <td>4.672835e+00</td>\n",
       "    </tr>\n",
       "    <tr>\n",
       "      <th>min</th>\n",
       "      <td>1.000000e+00</td>\n",
       "      <td>0.000000e+00</td>\n",
       "      <td>2.011000e+03</td>\n",
       "      <td>-1.578583e+02</td>\n",
       "      <td>1.343719e+01</td>\n",
       "    </tr>\n",
       "    <tr>\n",
       "      <th>25%</th>\n",
       "      <td>7.506152e+05</td>\n",
       "      <td>5.437100e+04</td>\n",
       "      <td>2.012000e+03</td>\n",
       "      <td>-1.119261e+02</td>\n",
       "      <td>3.416536e+01</td>\n",
       "    </tr>\n",
       "    <tr>\n",
       "      <th>50%</th>\n",
       "      <td>1.501230e+06</td>\n",
       "      <td>6.502100e+04</td>\n",
       "      <td>2.014000e+03</td>\n",
       "      <td>-8.615862e+01</td>\n",
       "      <td>3.910312e+01</td>\n",
       "    </tr>\n",
       "    <tr>\n",
       "      <th>75%</th>\n",
       "      <td>2.251844e+06</td>\n",
       "      <td>8.143200e+04</td>\n",
       "      <td>2.015000e+03</td>\n",
       "      <td>-7.551381e+01</td>\n",
       "      <td>4.088374e+01</td>\n",
       "    </tr>\n",
       "    <tr>\n",
       "      <th>max</th>\n",
       "      <td>3.002458e+06</td>\n",
       "      <td>6.997607e+09</td>\n",
       "      <td>2.016000e+03</td>\n",
       "      <td>1.457298e+02</td>\n",
       "      <td>6.483778e+01</td>\n",
       "    </tr>\n",
       "  </tbody>\n",
       "</table>\n",
       "</div>"
      ],
      "text/plain": [
       "         Unnamed: 0  PREVAILING_WAGE          YEAR           lon           lat\n",
       "count  3.002458e+06     3.002373e+06  3.002445e+06  2.895216e+06  2.895216e+06\n",
       "mean   1.501230e+06     1.469984e+05  2.013855e+03 -9.213441e+01  3.816054e+01\n",
       "std    8.667351e+05     5.287609e+06  1.680612e+00  1.965591e+01  4.672835e+00\n",
       "min    1.000000e+00     0.000000e+00  2.011000e+03 -1.578583e+02  1.343719e+01\n",
       "25%    7.506152e+05     5.437100e+04  2.012000e+03 -1.119261e+02  3.416536e+01\n",
       "50%    1.501230e+06     6.502100e+04  2.014000e+03 -8.615862e+01  3.910312e+01\n",
       "75%    2.251844e+06     8.143200e+04  2.015000e+03 -7.551381e+01  4.088374e+01\n",
       "max    3.002458e+06     6.997607e+09  2.016000e+03  1.457298e+02  6.483778e+01"
      ]
     },
     "execution_count": 6,
     "metadata": {},
     "output_type": "execute_result"
    }
   ],
   "source": [
    "df.describe()"
   ]
  },
  {
   "cell_type": "code",
   "execution_count": 7,
   "id": "be5fe5f5",
   "metadata": {},
   "outputs": [
    {
     "data": {
      "text/plain": [
       "CERTIFIED                                             2615623\n",
       "CERTIFIED-WITHDRAWN                                    202659\n",
       "DENIED                                                  94346\n",
       "WITHDRAWN                                               89799\n",
       "PENDING QUALITY AND COMPLIANCE REVIEW - UNASSIGNED         15\n",
       "REJECTED                                                    2\n",
       "INVALIDATED                                                 1\n",
       "Name: CASE_STATUS, dtype: int64"
      ]
     },
     "execution_count": 7,
     "metadata": {},
     "output_type": "execute_result"
    }
   ],
   "source": [
    "df['CASE_STATUS'].value_counts()"
   ]
  },
  {
   "cell_type": "code",
   "execution_count": 8,
   "id": "ed744a27",
   "metadata": {},
   "outputs": [
    {
     "data": {
      "text/plain": [
       "<AxesSubplot:>"
      ]
     },
     "execution_count": 8,
     "metadata": {},
     "output_type": "execute_result"
    },
    {
     "data": {
      "image/png": "[encoded data removed]",
      "text/plain": [
       "<Figure size 432x288 with 1 Axes>"
      ]
     },
     "metadata": {
      "needs_background": "light"
     },
     "output_type": "display_data"
    }
   ],
   "source": [
    "df['CASE_STATUS'].value_counts().loc[lambda x:x>15].plot.bar()"
   ]
  },
  {
   "cell_type": "code",
   "execution_count": 9,
   "id": "55c654c3",
   "metadata": {},
   "outputs": [],
   "source": [
    "df=df.drop(df[df['CASE_STATUS']=='CERTIFIED-WITHDRAWN'].index)\n",
    "df=df.drop(df[df['CASE_STATUS']=='WITHDRAWN'].index)\n",
    "df=df.drop(df[df['CASE_STATUS']=='REJECTED'].index)\n",
    "df=df.drop(df[df['CASE_STATUS']=='PENDING QUALITY AND COMPLIANCE REVIEW - UNASSIGNED'].index)\n",
    "df=df.drop(df[df['CASE_STATUS']=='INVALIDATED'].index)"
   ]
  },
  {
   "cell_type": "code",
   "execution_count": 10,
   "id": "1385e971",
   "metadata": {},
   "outputs": [
    {
     "data": {
      "text/plain": [
       "CERTIFIED    2615623\n",
       "DENIED         94346\n",
       "Name: CASE_STATUS, dtype: int64"
      ]
     },
     "execution_count": 10,
     "metadata": {},
     "output_type": "execute_result"
    }
   ],
   "source": [
    "df['CASE_STATUS'].value_counts()"
   ]
  },
  {
   "cell_type": "code",
   "execution_count": 11,
   "id": "6bd7de66",
   "metadata": {},
   "outputs": [
    {
     "data": {
      "text/plain": [
       "<AxesSubplot:>"
      ]
     },
     "execution_count": 11,
     "metadata": {},
     "output_type": "execute_result"
    },
    {
     "data": {
      "image/png": "[encoded data removed]",
      "text/plain": [
       "<Figure size 432x288 with 1 Axes>"
      ]
     },
     "metadata": {
      "needs_background": "light"
     },
     "output_type": "display_data"
    }
   ],
   "source": [
    "df['CASE_STATUS'].value_counts().plot.bar()"
   ]
  },
  {
   "cell_type": "code",
   "execution_count": 12,
   "id": "ef6ed13e",
   "metadata": {},
   "outputs": [
    {
     "data": {
      "text/plain": [
       "INFOSYS LIMITED                                       130241\n",
       "TATA CONSULTANCY SERVICES LIMITED                      64358\n",
       "WIPRO LIMITED                                          43679\n",
       "DELOITTE CONSULTING LLP                                36667\n",
       "ACCENTURE LLP                                          32983\n",
       "                                                       ...  \n",
       "JJ & R CHIROPRACTIC P. C.                                  1\n",
       "ALLARD ENGINEERING, INC.                                   1\n",
       "NOVELLUS SYSTEMS, INC., A WHOLLYOWNED SUBSIDIARY O         1\n",
       "JBCCONNECT CA LLC                                          1\n",
       "MOGO INC.                                                  1\n",
       "Name: EMPLOYER_NAME, Length: 231603, dtype: int64"
      ]
     },
     "execution_count": 12,
     "metadata": {},
     "output_type": "execute_result"
    }
   ],
   "source": [
    "df[\"EMPLOYER_NAME\"].value_counts()"
   ]
  },
  {
   "cell_type": "code",
   "execution_count": 13,
   "id": "f4f6232e",
   "metadata": {},
   "outputs": [
    {
     "name": "stdout",
     "output_type": "stream",
     "text": [
      "                                      EMPLOYER_NAME  No. OF APPLICANTS\n",
      "0                                   INFOSYS LIMITED             130241\n",
      "1                 TATA CONSULTANCY SERVICES LIMITED              64358\n",
      "2                                     WIPRO LIMITED              43679\n",
      "3                           DELOITTE CONSULTING LLP              36667\n",
      "4                                     ACCENTURE LLP              32983\n",
      "5                         IBM INDIA PRIVATE LIMITED              28166\n",
      "6                             MICROSOFT CORPORATION              22373\n",
      "7                                 HCL AMERICA, INC.              22330\n",
      "8                            ERNST & YOUNG U.S. LLP              18217\n",
      "9                  LARSEN & TOUBRO INFOTECH LIMITED              16724\n",
      "10                            CAPGEMINI AMERICA INC              16032\n",
      "11  COGNIZANT TECHNOLOGY SOLUTIONS U.S. CORPORATION              15448\n",
      "12                                      GOOGLE INC.              12545\n",
      "13                          IGATE TECHNOLOGIES INC.              12196\n",
      "14                                  IBM CORPORATION              10690\n",
      "15                    TECH MAHINDRA (AMERICAS),INC.              10682\n",
      "16                                INTEL CORPORATION              10215\n",
      "17                            DELOITTE & TOUCHE LLP               9603\n",
      "18                             AMAZON CORPORATE LLC               8235\n",
      "19                                       APPLE INC.               6819\n",
      "20                             ORACLE AMERICA, INC.               6569\n",
      "21                   TECH MAHINDRA (AMERICAS), INC.               6363\n",
      "22                             JPMORGAN CHASE & CO.               6279\n",
      "23                                  UST GLOBAL INC.               6044\n",
      "24                                   UST GLOBAL INC               5684\n",
      "25                      QUALCOMM TECHNOLOGIES, INC.               5201\n",
      "26                              MPHASIS CORPORATION               5174\n",
      "27                      HEXAWARE TECHNOLOGIES, INC.               5156\n",
      "28                            FUJITSU AMERICA, INC.               5122\n",
      "29                                   NTT DATA, INC.               4559\n"
     ]
    }
   ],
   "source": [
    "Pie=df[\"EMPLOYER_NAME\"].value_counts().to_frame()[:30]\n",
    "Pie.reset_index(inplace=True)\n",
    "Pie.columns = [\"EMPLOYER_NAME\",\"No. OF APPLICANTS\"]\n",
    "print(Pie)"
   ]
  },
  {
   "cell_type": "code",
   "execution_count": 14,
   "id": "e78755ca",
   "metadata": {},
   "outputs": [
    {
     "data": {
      "text/plain": [
       "<AxesSubplot:xlabel='EMPLOYER_NAME'>"
      ]
     },
     "execution_count": 14,
     "metadata": {},
     "output_type": "execute_result"
    },
    {
     "data": {
      "image/png": "[encoded data removed]",
      "text/plain": [
       "<Figure size 1296x360 with 1 Axes>"
      ]
     },
     "metadata": {
      "needs_background": "light"
     },
     "output_type": "display_data"
    }
   ],
   "source": [
    "Pie.plot(kind='bar',x='EMPLOYER_NAME',y='No. OF APPLICANTS',figsize=(18,5))"
   ]
  },
  {
   "cell_type": "code",
   "execution_count": 15,
   "id": "cef24520",
   "metadata": {},
   "outputs": [
    {
     "name": "stdout",
     "output_type": "stream",
     "text": [
      "                                             SOC_NAME  No. OF APPLICANTS\n",
      "0                           Computer Systems Analysts             271368\n",
      "1                                Computer Programmers             205977\n",
      "2                   SOFTWARE DEVELOPERS, APPLICATIONS             197937\n",
      "3                           COMPUTER SYSTEMS ANALYSTS             197932\n",
      "4                   Software Developers, Applications             174187\n",
      "5                                COMPUTER PROGRAMMERS             154598\n",
      "6                     COMPUTER OCCUPATIONS, ALL OTHER              99767\n",
      "7                     Computer Occupations, All Other              64892\n",
      "8               Software Developers, Systems Software              40544\n",
      "9                                 Management Analysts              35876\n",
      "10              SOFTWARE DEVELOPERS, SYSTEMS SOFTWARE              35262\n",
      "11                                 Financial Analysts              30073\n",
      "12                           Accountants and Auditors              29111\n",
      "13          Computer Software Engineers, Applications              28160\n",
      "14                                MANAGEMENT ANALYSTS              26220\n",
      "15                   Computer Occupations, All Other*              24361\n",
      "16                               Mechanical Engineers              23919\n",
      "17                           ACCOUNTANTS AND AUDITORS              20669\n",
      "18  Market Research Analysts and Marketing Special...              20431\n",
      "19                 Physicians and Surgeons, All Other              20187\n"
     ]
    }
   ],
   "source": [
    "Pie=df[\"SOC_NAME\"].value_counts().to_frame()[:20]\n",
    "Pie.reset_index(inplace=True)\n",
    "Pie.columns = [\"SOC_NAME\",\"No. OF APPLICANTS\"]\n",
    "print(Pie)"
   ]
  },
  {
   "cell_type": "code",
   "execution_count": 16,
   "id": "104333b3",
   "metadata": {},
   "outputs": [
    {
     "data": {
      "text/plain": [
       "<AxesSubplot:xlabel='SOC_NAME'>"
      ]
     },
     "execution_count": 16,
     "metadata": {},
     "output_type": "execute_result"
    },
    {
     "data": {
      "image/png": "[encoded data removed]",
      "text/plain": [
       "<Figure size 1296x360 with 1 Axes>"
      ]
     },
     "metadata": {
      "needs_background": "light"
     },
     "output_type": "display_data"
    }
   ],
   "source": [
    "Pie.plot(kind='bar',x='SOC_NAME',y='No. OF APPLICANTS',figsize=(18,5))"
   ]
  },
  {
   "cell_type": "code",
   "execution_count": 17,
   "id": "dff86301",
   "metadata": {
    "scrolled": true
   },
   "outputs": [
    {
     "name": "stdout",
     "output_type": "stream",
     "text": [
      "                      JOB_TITLE  No. OF APPLICANTS\n",
      "0            PROGRAMMER ANALYST             226313\n",
      "1             SOFTWARE ENGINEER             105315\n",
      "2           COMPUTER PROGRAMMER              65399\n",
      "3               SYSTEMS ANALYST              56652\n",
      "4            SOFTWARE DEVELOPER              38745\n",
      "5              BUSINESS ANALYST              35996\n",
      "6      COMPUTER SYSTEMS ANALYST              32206\n",
      "7          TECHNOLOGY LEAD - US              28312\n",
      "8       TECHNOLOGY ANALYST - US              26013\n",
      "9      SENIOR SOFTWARE ENGINEER              24109\n",
      "10            SENIOR CONSULTANT              23426\n",
      "11                   CONSULTANT              21765\n",
      "12          ASSISTANT PROFESSOR              20884\n",
      "13           PHYSICAL THERAPIST              18373\n",
      "14              PROJECT MANAGER              18291\n",
      "15       DATABASE ADMINISTRATOR              15234\n",
      "16                   ACCOUNTANT              13170\n",
      "17                    DEVELOPER              12459\n",
      "18  COMPUTER PROGRAMMER ANALYST              12291\n",
      "19                    ASSOCIATE              11098\n"
     ]
    }
   ],
   "source": [
    "Pie=df[\"JOB_TITLE\"].value_counts().to_frame()[:20]\n",
    "Pie.reset_index(inplace=True)\n",
    "Pie.columns = [\"JOB_TITLE\",\"No. OF APPLICANTS\"]\n",
    "print(Pie)"
   ]
  },
  {
   "cell_type": "code",
   "execution_count": 18,
   "id": "228dd29a",
   "metadata": {},
   "outputs": [
    {
     "data": {
      "text/plain": [
       "<AxesSubplot:xlabel='JOB_TITLE'>"
      ]
     },
     "execution_count": 18,
     "metadata": {},
     "output_type": "execute_result"
    },
    {
     "data": {
      "image/png": "[encoded data removed]",
      "text/plain": [
       "<Figure size 1296x360 with 1 Axes>"
      ]
     },
     "metadata": {
      "needs_background": "light"
     },
     "output_type": "display_data"
    }
   ],
   "source": [
    "Pie.plot(kind='bar',x='JOB_TITLE',y='No. OF APPLICANTS',figsize=(18,5))"
   ]
  },
  {
   "cell_type": "code",
   "execution_count": 19,
   "id": "7abfc806",
   "metadata": {},
   "outputs": [
    {
     "data": {
      "image/png": "[encoded data removed]",
      "text/plain": [
       "<Figure size 864x504 with 1 Axes>"
      ]
     },
     "metadata": {
      "needs_background": "light"
     },
     "output_type": "display_data"
    }
   ],
   "source": [
    "plt.figure(figsize=(12,7))\n",
    "sns.set(style=\"whitegrid\")\n",
    "g = sns.countplot(x = 'FULL_TIME_POSITION', data = df)\n",
    "plt.title(\"NUMBER OF APPLICATIONS MADE FOR THE FULL TIME POSITION\")\n",
    "plt.ylabel(\"NUMBER OF PETITIONS MADE\")\n",
    "plt.show()"
   ]
  },
  {
   "cell_type": "code",
   "execution_count": 20,
   "id": "731e725a",
   "metadata": {},
   "outputs": [
    {
     "data": {
      "text/plain": [
       "Index(['Unnamed: 0', 'CASE_STATUS', 'EMPLOYER_NAME', 'SOC_NAME', 'JOB_TITLE',\n",
       "       'FULL_TIME_POSITION', 'PREVAILING_WAGE', 'YEAR', 'WORKSITE', 'lon',\n",
       "       'lat'],\n",
       "      dtype='object')"
      ]
     },
     "execution_count": 20,
     "metadata": {},
     "output_type": "execute_result"
    }
   ],
   "source": [
    "df.columns"
   ]
  },
  {
   "cell_type": "code",
   "execution_count": 21,
   "id": "f2b3e8fc",
   "metadata": {},
   "outputs": [
    {
     "data": {
      "text/plain": [
       "148152.29986513025"
      ]
     },
     "execution_count": 21,
     "metadata": {},
     "output_type": "execute_result"
    }
   ],
   "source": [
    "df.PREVAILING_WAGE.mean()"
   ]
  },
  {
   "cell_type": "code",
   "execution_count": 22,
   "id": "6c2ab137",
   "metadata": {},
   "outputs": [
    {
     "data": {
      "text/plain": [
       "0    60000.0\n",
       "dtype: float64"
      ]
     },
     "execution_count": 22,
     "metadata": {},
     "output_type": "execute_result"
    }
   ],
   "source": [
    "df.PREVAILING_WAGE.mode()"
   ]
  },
  {
   "cell_type": "code",
   "execution_count": 23,
   "id": "0a12c3c6",
   "metadata": {},
   "outputs": [
    {
     "name": "stdout",
     "output_type": "stream",
     "text": [
      "                      WORKSITE  No. OF APPLICANTS\n",
      "0           NEW YORK, NEW YORK             171633\n",
      "1               HOUSTON, TEXAS              74136\n",
      "2    SAN FRANCISCO, CALIFORNIA              56095\n",
      "3             ATLANTA, GEORGIA              47916\n",
      "4            CHICAGO, ILLINOIS              46763\n",
      "5         SAN JOSE, CALIFORNIA              45368\n",
      "6        SUNNYVALE, CALIFORNIA              30805\n",
      "7                DALLAS, TEXAS              28659\n",
      "8    CHARLOTTE, NORTH CAROLINA              28412\n",
      "9        BOSTON, MASSACHUSETTS              27782\n",
      "10         REDMOND, WASHINGTON              27631\n",
      "11               IRVING, TEXAS              26344\n",
      "12     JERSEY CITY, NEW JERSEY              25039\n",
      "13     SANTA CLARA, CALIFORNIA              24815\n",
      "14       SAN DIEGO, CALIFORNIA              24812\n",
      "15         SEATTLE, WASHINGTON              24482\n",
      "16     LOS ANGELES, CALIFORNIA              24378\n",
      "17   MOUNTAIN VIEW, CALIFORNIA              24205\n",
      "18               AUSTIN, TEXAS              23947\n",
      "19  PHILADELPHIA, PENNSYLVANIA              22073\n"
     ]
    }
   ],
   "source": [
    "Pie=df[\"WORKSITE\"].value_counts().to_frame()[:20]\n",
    "Pie.reset_index(inplace=True)\n",
    "Pie.columns = [\"WORKSITE\",\"No. OF APPLICANTS\"]\n",
    "print(Pie)"
   ]
  },
  {
   "cell_type": "code",
   "execution_count": 24,
   "id": "cf6d00df",
   "metadata": {},
   "outputs": [
    {
     "data": {
      "text/plain": [
       "<AxesSubplot:xlabel='WORKSITE'>"
      ]
     },
     "execution_count": 24,
     "metadata": {},
     "output_type": "execute_result"
    },
    {
     "data": {
      "image/png": "[encoded data removed]",
      "text/plain": [
       "<Figure size 1296x360 with 1 Axes>"
      ]
     },
     "metadata": {},
     "output_type": "display_data"
    }
   ],
   "source": [
    "Pie.plot(kind='bar',x='WORKSITE',y='No. OF APPLICANTS',figsize=(18,5))"
   ]
  },
  {
   "cell_type": "code",
   "execution_count": 25,
   "id": "52006cb3",
   "metadata": {},
   "outputs": [
    {
     "data": {
      "text/plain": [
       "(2709982, 11)"
      ]
     },
     "execution_count": 25,
     "metadata": {},
     "output_type": "execute_result"
    }
   ],
   "source": [
    "df.shape"
   ]
  },
  {
   "cell_type": "code",
   "execution_count": 26,
   "id": "7a120972",
   "metadata": {},
   "outputs": [
    {
     "data": {
      "text/plain": [
       "Unnamed: 0            False\n",
       "CASE_STATUS            True\n",
       "EMPLOYER_NAME          True\n",
       "SOC_NAME               True\n",
       "JOB_TITLE              True\n",
       "FULL_TIME_POSITION     True\n",
       "PREVAILING_WAGE        True\n",
       "YEAR                   True\n",
       "WORKSITE              False\n",
       "lon                    True\n",
       "lat                    True\n",
       "dtype: bool"
      ]
     },
     "execution_count": 26,
     "metadata": {},
     "output_type": "execute_result"
    }
   ],
   "source": [
    "df.isna().any()"
   ]
  },
  {
   "cell_type": "code",
   "execution_count": 27,
   "id": "bf2a3efb",
   "metadata": {},
   "outputs": [
    {
     "data": {
      "text/plain": [
       "Unnamed: 0                0\n",
       "CASE_STATUS              13\n",
       "EMPLOYER_NAME            31\n",
       "SOC_NAME              15906\n",
       "JOB_TITLE                23\n",
       "FULL_TIME_POSITION       14\n",
       "PREVAILING_WAGE          66\n",
       "YEAR                     13\n",
       "WORKSITE                  0\n",
       "lon                   97071\n",
       "lat                   97071\n",
       "dtype: int64"
      ]
     },
     "execution_count": 27,
     "metadata": {},
     "output_type": "execute_result"
    }
   ],
   "source": [
    "df.isna().sum()"
   ]
  },
  {
   "cell_type": "code",
   "execution_count": 28,
   "id": "4d630995",
   "metadata": {},
   "outputs": [
    {
     "data": {
      "text/plain": [
       "'INFOSYS LIMITED'"
      ]
     },
     "execution_count": 28,
     "metadata": {},
     "output_type": "execute_result"
    }
   ],
   "source": [
    "df['EMPLOYER_NAME'].mode()[0]"
   ]
  },
  {
   "cell_type": "code",
   "execution_count": 29,
   "id": "e5e94a68",
   "metadata": {},
   "outputs": [],
   "source": [
    "df['EMPLOYER_NAME'] = df['EMPLOYER_NAME'].fillna(df['EMPLOYER_NAME'].mode()[0])"
   ]
  },
  {
   "cell_type": "code",
   "execution_count": 30,
   "id": "26b47726",
   "metadata": {},
   "outputs": [],
   "source": [
    "df['SOC_NAME'] = df['SOC_NAME'].fillna(df['SOC_NAME'].mode()[0])\n",
    "df['JOB_TITLE'] = df['JOB_TITLE'].fillna(df['JOB_TITLE'].mode()[0])\n",
    "df['FULL_TIME_POSITION'] = df['FULL_TIME_POSITION'].fillna(df['FULL_TIME_POSITION'].mode()[0])\n",
    "df['PREVAILING_WAGE'] = df['PREVAILING_WAGE'].fillna(df['PREVAILING_WAGE'].mode()[0])"
   ]
  },
  {
   "cell_type": "code",
   "execution_count": 31,
   "id": "a24d7d92",
   "metadata": {},
   "outputs": [],
   "source": [
    "df = df.drop('lat', axis = 1)\n",
    "df = df.drop('lon', axis = 1)"
   ]
  },
  {
   "cell_type": "code",
   "execution_count": 32,
   "id": "006bc0fb",
   "metadata": {},
   "outputs": [
    {
     "data": {
      "text/plain": [
       "Unnamed: 0             0\n",
       "CASE_STATUS           13\n",
       "EMPLOYER_NAME          0\n",
       "SOC_NAME               0\n",
       "JOB_TITLE              0\n",
       "FULL_TIME_POSITION     0\n",
       "PREVAILING_WAGE        0\n",
       "YEAR                  13\n",
       "WORKSITE               0\n",
       "dtype: int64"
      ]
     },
     "execution_count": 32,
     "metadata": {},
     "output_type": "execute_result"
    }
   ],
   "source": [
    "df.isna().sum()"
   ]
  },
  {
   "cell_type": "code",
   "execution_count": 33,
   "id": "4ac55760",
   "metadata": {},
   "outputs": [
    {
     "data": {
      "text/plain": [
       "Unnamed: 0              int64\n",
       "CASE_STATUS            object\n",
       "EMPLOYER_NAME          object\n",
       "SOC_NAME               object\n",
       "JOB_TITLE              object\n",
       "FULL_TIME_POSITION     object\n",
       "PREVAILING_WAGE       float64\n",
       "YEAR                  float64\n",
       "WORKSITE               object\n",
       "dtype: object"
      ]
     },
     "execution_count": 33,
     "metadata": {},
     "output_type": "execute_result"
    }
   ],
   "source": [
    "df.dtypes"
   ]
  },
  {
   "cell_type": "code",
   "execution_count": 34,
   "id": "4474551f",
   "metadata": {},
   "outputs": [],
   "source": [
    "df.columns=['SERIAL_NUMBER','CASE_STATUS','EMPLOYER_NAME','SOC_NAME','JOB_TITLE','FULL_TIME_POSITION','PREVAILING_WAGE','YEAR','WORKSITE']\n",
    "df = df.drop('SERIAL_NUMBER', axis = 1)"
   ]
  },
  {
   "cell_type": "code",
   "execution_count": 35,
   "id": "9ef1273a",
   "metadata": {},
   "outputs": [
    {
     "data": {
      "text/plain": [
       "CASE_STATUS            object\n",
       "EMPLOYER_NAME          object\n",
       "SOC_NAME               object\n",
       "JOB_TITLE              object\n",
       "FULL_TIME_POSITION     object\n",
       "PREVAILING_WAGE       float64\n",
       "YEAR                  float64\n",
       "WORKSITE               object\n",
       "dtype: object"
      ]
     },
     "execution_count": 35,
     "metadata": {},
     "output_type": "execute_result"
    }
   ],
   "source": [
    "df.dtypes"
   ]
  },
  {
   "cell_type": "code",
   "execution_count": 36,
   "id": "8483052b",
   "metadata": {},
   "outputs": [
    {
     "name": "stdout",
     "output_type": "stream",
     "text": [
      "Enter employer name : Infosys limited\n",
      "Enter soc name : computer programmar\n",
      "Enter job title : programmar\n",
      "Enter Y if you are full timer otherwise enter N : Y\n",
      "Enter your prevailing wage : 15123.03\n",
      "Enter year of applying : 2020\n",
      "Enter your worksite : New York\n"
     ]
    }
   ],
   "source": [
    "CASE_STATUS = 'to_be_predicted'\n",
    "EMPLOYER_NAME = input(\"Enter employer name : \")\n",
    "SOC_NAME = input(\"Enter soc name : \")\n",
    "JOB_TITLE = input(\"Enter job title : \")\n",
    "FULL_TIME_POSITION = input(\"Enter Y if you are full timer otherwise enter N : \")\n",
    "PREVAILING_WAGE = float(input(\"Enter your prevailing wage : \"))\n",
    "YEAR = int(input(\"Enter year of applying : \"))\n",
    "WORKSITE = input(\"Enter your worksite : \")"
   ]
  },
  {
   "cell_type": "code",
   "execution_count": 37,
   "id": "b1b1fbeb",
   "metadata": {},
   "outputs": [],
   "source": [
    "l = [[CASE_STATUS,EMPLOYER_NAME,SOC_NAME,JOB_TITLE,FULL_TIME_POSITION,PREVAILING_WAGE,YEAR,WORKSITE]]"
   ]
  },
  {
   "cell_type": "code",
   "execution_count": 38,
   "id": "1936725e",
   "metadata": {},
   "outputs": [
    {
     "data": {
      "text/plain": [
       "[['to_be_predicted',\n",
       "  'Infosys limited',\n",
       "  'computer programmar',\n",
       "  'programmar',\n",
       "  'Y',\n",
       "  15123.03,\n",
       "  2020,\n",
       "  'New York']]"
      ]
     },
     "execution_count": 38,
     "metadata": {},
     "output_type": "execute_result"
    }
   ],
   "source": [
    "l"
   ]
  },
  {
   "cell_type": "code",
   "execution_count": 39,
   "id": "85330c82",
   "metadata": {},
   "outputs": [
    {
     "data": {
      "text/html": [
       "<div>\n",
       "<style scoped>\n",
       "    .dataframe tbody tr th:only-of-type {\n",
       "        vertical-align: middle;\n",
       "    }\n",
       "\n",
       "    .dataframe tbody tr th {\n",
       "        vertical-align: top;\n",
       "    }\n",
       "\n",
       "    .dataframe thead th {\n",
       "        text-align: right;\n",
       "    }\n",
       "</style>\n",
       "<table border=\"1\" class=\"dataframe\">\n",
       "  <thead>\n",
       "    <tr style=\"text-align: right;\">\n",
       "      <th></th>\n",
       "      <th>CASE_STATUS</th>\n",
       "      <th>EMPLOYER_NAME</th>\n",
       "      <th>SOC_NAME</th>\n",
       "      <th>JOB_TITLE</th>\n",
       "      <th>FULL_TIME_POSITION</th>\n",
       "      <th>PREVAILING_WAGE</th>\n",
       "      <th>YEAR</th>\n",
       "      <th>WORKSITE</th>\n",
       "    </tr>\n",
       "  </thead>\n",
       "  <tbody>\n",
       "    <tr>\n",
       "      <th>0</th>\n",
       "      <td>to_be_predicted</td>\n",
       "      <td>Infosys limited</td>\n",
       "      <td>computer programmar</td>\n",
       "      <td>programmar</td>\n",
       "      <td>Y</td>\n",
       "      <td>15123.03</td>\n",
       "      <td>2020</td>\n",
       "      <td>New York</td>\n",
       "    </tr>\n",
       "  </tbody>\n",
       "</table>\n",
       "</div>"
      ],
      "text/plain": [
       "       CASE_STATUS    EMPLOYER_NAME             SOC_NAME   JOB_TITLE  \\\n",
       "0  to_be_predicted  Infosys limited  computer programmar  programmar   \n",
       "\n",
       "  FULL_TIME_POSITION  PREVAILING_WAGE  YEAR  WORKSITE  \n",
       "0                  Y         15123.03  2020  New York  "
      ]
     },
     "execution_count": 39,
     "metadata": {},
     "output_type": "execute_result"
    }
   ],
   "source": [
    "df2 = pd.DataFrame(l,columns = ['CASE_STATUS','EMPLOYER_NAME','SOC_NAME','JOB_TITLE','FULL_TIME_POSITION','PREVAILING_WAGE','YEAR','WORKSITE'])\n",
    "df2"
   ]
  },
  {
   "cell_type": "code",
   "execution_count": 40,
   "id": "365690d6",
   "metadata": {},
   "outputs": [],
   "source": [
    "df = df.append(df2, ignore_index=True)"
   ]
  },
  {
   "cell_type": "code",
   "execution_count": 41,
   "id": "cf2eb6cb",
   "metadata": {},
   "outputs": [
    {
     "data": {
      "text/html": [
       "<div>\n",
       "<style scoped>\n",
       "    .dataframe tbody tr th:only-of-type {\n",
       "        vertical-align: middle;\n",
       "    }\n",
       "\n",
       "    .dataframe tbody tr th {\n",
       "        vertical-align: top;\n",
       "    }\n",
       "\n",
       "    .dataframe thead th {\n",
       "        text-align: right;\n",
       "    }\n",
       "</style>\n",
       "<table border=\"1\" class=\"dataframe\">\n",
       "  <thead>\n",
       "    <tr style=\"text-align: right;\">\n",
       "      <th></th>\n",
       "      <th>CASE_STATUS</th>\n",
       "      <th>EMPLOYER_NAME</th>\n",
       "      <th>SOC_NAME</th>\n",
       "      <th>JOB_TITLE</th>\n",
       "      <th>FULL_TIME_POSITION</th>\n",
       "      <th>PREVAILING_WAGE</th>\n",
       "      <th>YEAR</th>\n",
       "      <th>WORKSITE</th>\n",
       "    </tr>\n",
       "  </thead>\n",
       "  <tbody>\n",
       "    <tr>\n",
       "      <th>2709978</th>\n",
       "      <td>NaN</td>\n",
       "      <td>INFOSYS LIMITED</td>\n",
       "      <td>Computer Systems Analysts</td>\n",
       "      <td>PROGRAMMER ANALYST</td>\n",
       "      <td>Y</td>\n",
       "      <td>60000.00</td>\n",
       "      <td>NaN</td>\n",
       "      <td>SOUTH LAKE, TEXAS</td>\n",
       "    </tr>\n",
       "    <tr>\n",
       "      <th>2709979</th>\n",
       "      <td>NaN</td>\n",
       "      <td>INFOSYS LIMITED</td>\n",
       "      <td>Computer Systems Analysts</td>\n",
       "      <td>PROGRAMMER ANALYST</td>\n",
       "      <td>Y</td>\n",
       "      <td>60000.00</td>\n",
       "      <td>NaN</td>\n",
       "      <td>CLINTON, NEW JERSEY</td>\n",
       "    </tr>\n",
       "    <tr>\n",
       "      <th>2709980</th>\n",
       "      <td>NaN</td>\n",
       "      <td>INFOSYS LIMITED</td>\n",
       "      <td>Computer Systems Analysts</td>\n",
       "      <td>PROGRAMMER ANALYST</td>\n",
       "      <td>Y</td>\n",
       "      <td>60000.00</td>\n",
       "      <td>NaN</td>\n",
       "      <td>OWINGS MILL, MARYLAND</td>\n",
       "    </tr>\n",
       "    <tr>\n",
       "      <th>2709981</th>\n",
       "      <td>NaN</td>\n",
       "      <td>INFOSYS LIMITED</td>\n",
       "      <td>Computer Systems Analysts</td>\n",
       "      <td>PROGRAMMER ANALYST</td>\n",
       "      <td>Y</td>\n",
       "      <td>60000.00</td>\n",
       "      <td>NaN</td>\n",
       "      <td>ALTANTA, GEORGIA</td>\n",
       "    </tr>\n",
       "    <tr>\n",
       "      <th>2709982</th>\n",
       "      <td>to_be_predicted</td>\n",
       "      <td>Infosys limited</td>\n",
       "      <td>computer programmar</td>\n",
       "      <td>programmar</td>\n",
       "      <td>Y</td>\n",
       "      <td>15123.03</td>\n",
       "      <td>2020.0</td>\n",
       "      <td>New York</td>\n",
       "    </tr>\n",
       "  </tbody>\n",
       "</table>\n",
       "</div>"
      ],
      "text/plain": [
       "             CASE_STATUS    EMPLOYER_NAME                   SOC_NAME  \\\n",
       "2709978              NaN  INFOSYS LIMITED  Computer Systems Analysts   \n",
       "2709979              NaN  INFOSYS LIMITED  Computer Systems Analysts   \n",
       "2709980              NaN  INFOSYS LIMITED  Computer Systems Analysts   \n",
       "2709981              NaN  INFOSYS LIMITED  Computer Systems Analysts   \n",
       "2709982  to_be_predicted  Infosys limited        computer programmar   \n",
       "\n",
       "                  JOB_TITLE FULL_TIME_POSITION  PREVAILING_WAGE    YEAR  \\\n",
       "2709978  PROGRAMMER ANALYST                  Y         60000.00     NaN   \n",
       "2709979  PROGRAMMER ANALYST                  Y         60000.00     NaN   \n",
       "2709980  PROGRAMMER ANALYST                  Y         60000.00     NaN   \n",
       "2709981  PROGRAMMER ANALYST                  Y         60000.00     NaN   \n",
       "2709982          programmar                  Y         15123.03  2020.0   \n",
       "\n",
       "                      WORKSITE  \n",
       "2709978      SOUTH LAKE, TEXAS  \n",
       "2709979    CLINTON, NEW JERSEY  \n",
       "2709980  OWINGS MILL, MARYLAND  \n",
       "2709981       ALTANTA, GEORGIA  \n",
       "2709982               New York  "
      ]
     },
     "execution_count": 41,
     "metadata": {},
     "output_type": "execute_result"
    }
   ],
   "source": [
    "df.tail()"
   ]
  },
  {
   "cell_type": "code",
   "execution_count": 42,
   "id": "79377d85",
   "metadata": {},
   "outputs": [
    {
     "data": {
      "text/plain": [
       "(2709983, 8)"
      ]
     },
     "execution_count": 42,
     "metadata": {},
     "output_type": "execute_result"
    }
   ],
   "source": [
    "df.shape"
   ]
  },
  {
   "cell_type": "code",
   "execution_count": 43,
   "id": "c906e7d2",
   "metadata": {},
   "outputs": [],
   "source": [
    "df.dropna(inplace=True)"
   ]
  },
  {
   "cell_type": "code",
   "execution_count": 44,
   "id": "01bd6d2a",
   "metadata": {},
   "outputs": [
    {
     "data": {
      "text/plain": [
       "(2709970, 8)"
      ]
     },
     "execution_count": 44,
     "metadata": {},
     "output_type": "execute_result"
    }
   ],
   "source": [
    "df.shape"
   ]
  },
  {
   "cell_type": "code",
   "execution_count": 45,
   "id": "1e52ffe9",
   "metadata": {},
   "outputs": [
    {
     "data": {
      "text/html": [
       "<div>\n",
       "<style scoped>\n",
       "    .dataframe tbody tr th:only-of-type {\n",
       "        vertical-align: middle;\n",
       "    }\n",
       "\n",
       "    .dataframe tbody tr th {\n",
       "        vertical-align: top;\n",
       "    }\n",
       "\n",
       "    .dataframe thead th {\n",
       "        text-align: right;\n",
       "    }\n",
       "</style>\n",
       "<table border=\"1\" class=\"dataframe\">\n",
       "  <thead>\n",
       "    <tr style=\"text-align: right;\">\n",
       "      <th></th>\n",
       "      <th>CASE_STATUS</th>\n",
       "      <th>EMPLOYER_NAME</th>\n",
       "      <th>SOC_NAME</th>\n",
       "      <th>JOB_TITLE</th>\n",
       "      <th>FULL_TIME_POSITION</th>\n",
       "      <th>PREVAILING_WAGE</th>\n",
       "      <th>YEAR</th>\n",
       "      <th>WORKSITE</th>\n",
       "    </tr>\n",
       "  </thead>\n",
       "  <tbody>\n",
       "    <tr>\n",
       "      <th>2709965</th>\n",
       "      <td>DENIED</td>\n",
       "      <td>KEVIN PARK &amp; ASSOCIATES, LTD</td>\n",
       "      <td>Accountants and Auditors</td>\n",
       "      <td>ACCOUNTANT</td>\n",
       "      <td>Y</td>\n",
       "      <td>45760.00</td>\n",
       "      <td>2011.0</td>\n",
       "      <td>ARLINGTON HEIGHTS, ILLINOIS</td>\n",
       "    </tr>\n",
       "    <tr>\n",
       "      <th>2709966</th>\n",
       "      <td>DENIED</td>\n",
       "      <td>IVERTIX INCORPORATED</td>\n",
       "      <td>Computer Programmers</td>\n",
       "      <td>APPLICATION DEVELOPER</td>\n",
       "      <td>Y</td>\n",
       "      <td>54080.00</td>\n",
       "      <td>2011.0</td>\n",
       "      <td>WASHINGTON, DISTRICT OF COLUMBIA</td>\n",
       "    </tr>\n",
       "    <tr>\n",
       "      <th>2709967</th>\n",
       "      <td>DENIED</td>\n",
       "      <td>PROGRESSIVE SURFACE, INC.</td>\n",
       "      <td>Sales Engineers</td>\n",
       "      <td>SALES ENGINEER</td>\n",
       "      <td>Y</td>\n",
       "      <td>55141.00</td>\n",
       "      <td>2011.0</td>\n",
       "      <td>GRAND RAPIDS, MICHIGAN</td>\n",
       "    </tr>\n",
       "    <tr>\n",
       "      <th>2709968</th>\n",
       "      <td>DENIED</td>\n",
       "      <td>PEI PARTNERSHIP ARCHITECTS LLP</td>\n",
       "      <td>Architectural and Civil Drafters</td>\n",
       "      <td>ARCHITECTURAL DESIGNER</td>\n",
       "      <td>Y</td>\n",
       "      <td>69368.00</td>\n",
       "      <td>2011.0</td>\n",
       "      <td>NEW YORK, NEW YORK</td>\n",
       "    </tr>\n",
       "    <tr>\n",
       "      <th>2709982</th>\n",
       "      <td>to_be_predicted</td>\n",
       "      <td>Infosys limited</td>\n",
       "      <td>computer programmar</td>\n",
       "      <td>programmar</td>\n",
       "      <td>Y</td>\n",
       "      <td>15123.03</td>\n",
       "      <td>2020.0</td>\n",
       "      <td>New York</td>\n",
       "    </tr>\n",
       "  </tbody>\n",
       "</table>\n",
       "</div>"
      ],
      "text/plain": [
       "             CASE_STATUS                   EMPLOYER_NAME  \\\n",
       "2709965           DENIED    KEVIN PARK & ASSOCIATES, LTD   \n",
       "2709966           DENIED            IVERTIX INCORPORATED   \n",
       "2709967           DENIED       PROGRESSIVE SURFACE, INC.   \n",
       "2709968           DENIED  PEI PARTNERSHIP ARCHITECTS LLP   \n",
       "2709982  to_be_predicted                 Infosys limited   \n",
       "\n",
       "                                 SOC_NAME               JOB_TITLE  \\\n",
       "2709965          Accountants and Auditors              ACCOUNTANT   \n",
       "2709966              Computer Programmers   APPLICATION DEVELOPER   \n",
       "2709967                   Sales Engineers          SALES ENGINEER   \n",
       "2709968  Architectural and Civil Drafters  ARCHITECTURAL DESIGNER   \n",
       "2709982               computer programmar              programmar   \n",
       "\n",
       "        FULL_TIME_POSITION  PREVAILING_WAGE    YEAR  \\\n",
       "2709965                  Y         45760.00  2011.0   \n",
       "2709966                  Y         54080.00  2011.0   \n",
       "2709967                  Y         55141.00  2011.0   \n",
       "2709968                  Y         69368.00  2011.0   \n",
       "2709982                  Y         15123.03  2020.0   \n",
       "\n",
       "                                 WORKSITE  \n",
       "2709965       ARLINGTON HEIGHTS, ILLINOIS  \n",
       "2709966  WASHINGTON, DISTRICT OF COLUMBIA  \n",
       "2709967            GRAND RAPIDS, MICHIGAN  \n",
       "2709968                NEW YORK, NEW YORK  \n",
       "2709982                          New York  "
      ]
     },
     "execution_count": 45,
     "metadata": {},
     "output_type": "execute_result"
    }
   ],
   "source": [
    "df.tail()"
   ]
  },
  {
   "cell_type": "code",
   "execution_count": 46,
   "id": "7400b818",
   "metadata": {},
   "outputs": [
    {
     "data": {
      "text/plain": [
       "CASE_STATUS           0\n",
       "EMPLOYER_NAME         0\n",
       "SOC_NAME              0\n",
       "JOB_TITLE             0\n",
       "FULL_TIME_POSITION    0\n",
       "PREVAILING_WAGE       0\n",
       "YEAR                  0\n",
       "WORKSITE              0\n",
       "dtype: int64"
      ]
     },
     "execution_count": 46,
     "metadata": {},
     "output_type": "execute_result"
    }
   ],
   "source": [
    "df.isna().sum()"
   ]
  },
  {
   "cell_type": "code",
   "execution_count": 47,
   "id": "29531bef",
   "metadata": {},
   "outputs": [
    {
     "data": {
      "text/plain": [
       "<AxesSubplot:>"
      ]
     },
     "execution_count": 47,
     "metadata": {},
     "output_type": "execute_result"
    },
    {
     "data": {
      "image/png": "[encoded data removed]",
      "text/plain": [
       "<Figure size 432x288 with 1 Axes>"
      ]
     },
     "metadata": {},
     "output_type": "display_data"
    }
   ],
   "source": [
    "df[\"CASE_STATUS\"].value_counts().loc[lambda x:x>1].plot(kind='bar')"
   ]
  },
  {
   "cell_type": "code",
   "execution_count": 48,
   "id": "0a327bcc",
   "metadata": {},
   "outputs": [],
   "source": [
    "df['EMPLOYER_NAME'] = df['EMPLOYER_NAME'].str.lower()\n",
    "df['SOC_NAME'] = df['SOC_NAME'].str.lower()\n",
    "df['JOB_TITLE'] = df['JOB_TITLE'].str.lower()\n",
    "df['WORKSITE'] = df['WORKSITE'].str.lower()"
   ]
  },
  {
   "cell_type": "code",
   "execution_count": 49,
   "id": "b9adf9de",
   "metadata": {},
   "outputs": [
    {
     "data": {
      "text/html": [
       "<div>\n",
       "<style scoped>\n",
       "    .dataframe tbody tr th:only-of-type {\n",
       "        vertical-align: middle;\n",
       "    }\n",
       "\n",
       "    .dataframe tbody tr th {\n",
       "        vertical-align: top;\n",
       "    }\n",
       "\n",
       "    .dataframe thead th {\n",
       "        text-align: right;\n",
       "    }\n",
       "</style>\n",
       "<table border=\"1\" class=\"dataframe\">\n",
       "  <thead>\n",
       "    <tr style=\"text-align: right;\">\n",
       "      <th></th>\n",
       "      <th>CASE_STATUS</th>\n",
       "      <th>EMPLOYER_NAME</th>\n",
       "      <th>SOC_NAME</th>\n",
       "      <th>JOB_TITLE</th>\n",
       "      <th>FULL_TIME_POSITION</th>\n",
       "      <th>PREVAILING_WAGE</th>\n",
       "      <th>YEAR</th>\n",
       "      <th>WORKSITE</th>\n",
       "    </tr>\n",
       "  </thead>\n",
       "  <tbody>\n",
       "    <tr>\n",
       "      <th>0</th>\n",
       "      <td>CERTIFIED</td>\n",
       "      <td>quicklogix llc</td>\n",
       "      <td>chief executives</td>\n",
       "      <td>ceo</td>\n",
       "      <td>Y</td>\n",
       "      <td>187200.00</td>\n",
       "      <td>2016.0</td>\n",
       "      <td>santa clara, california</td>\n",
       "    </tr>\n",
       "    <tr>\n",
       "      <th>1</th>\n",
       "      <td>CERTIFIED</td>\n",
       "      <td>mcchrystal group, llc</td>\n",
       "      <td>chief executives</td>\n",
       "      <td>president, northeast region</td>\n",
       "      <td>Y</td>\n",
       "      <td>241842.00</td>\n",
       "      <td>2016.0</td>\n",
       "      <td>alexandria, virginia</td>\n",
       "    </tr>\n",
       "    <tr>\n",
       "      <th>2</th>\n",
       "      <td>CERTIFIED</td>\n",
       "      <td>lomics, llc</td>\n",
       "      <td>chief executives</td>\n",
       "      <td>ceo</td>\n",
       "      <td>Y</td>\n",
       "      <td>99986.00</td>\n",
       "      <td>2016.0</td>\n",
       "      <td>san diego, california</td>\n",
       "    </tr>\n",
       "    <tr>\n",
       "      <th>3</th>\n",
       "      <td>CERTIFIED</td>\n",
       "      <td>uc university high school education inc.</td>\n",
       "      <td>chief executives</td>\n",
       "      <td>chief financial officer</td>\n",
       "      <td>Y</td>\n",
       "      <td>99986.00</td>\n",
       "      <td>2016.0</td>\n",
       "      <td>chula vista, california</td>\n",
       "    </tr>\n",
       "    <tr>\n",
       "      <th>4</th>\n",
       "      <td>CERTIFIED</td>\n",
       "      <td>quicklogix, inc.</td>\n",
       "      <td>chief executives</td>\n",
       "      <td>ceo</td>\n",
       "      <td>Y</td>\n",
       "      <td>187200.00</td>\n",
       "      <td>2016.0</td>\n",
       "      <td>santa clara, california</td>\n",
       "    </tr>\n",
       "    <tr>\n",
       "      <th>5</th>\n",
       "      <td>CERTIFIED</td>\n",
       "      <td>hello inc.</td>\n",
       "      <td>chief executives</td>\n",
       "      <td>chief business officer</td>\n",
       "      <td>Y</td>\n",
       "      <td>215862.00</td>\n",
       "      <td>2016.0</td>\n",
       "      <td>san francisco, california</td>\n",
       "    </tr>\n",
       "    <tr>\n",
       "      <th>6</th>\n",
       "      <td>CERTIFIED</td>\n",
       "      <td>umbel corp</td>\n",
       "      <td>chief executives</td>\n",
       "      <td>vice president of engineering</td>\n",
       "      <td>Y</td>\n",
       "      <td>192088.00</td>\n",
       "      <td>2016.0</td>\n",
       "      <td>austin, texas</td>\n",
       "    </tr>\n",
       "    <tr>\n",
       "      <th>7</th>\n",
       "      <td>CERTIFIED</td>\n",
       "      <td>perspectives of freedom foundation, inc</td>\n",
       "      <td>chief executives</td>\n",
       "      <td>executive director</td>\n",
       "      <td>Y</td>\n",
       "      <td>95295.98</td>\n",
       "      <td>2016.0</td>\n",
       "      <td>weston, florida</td>\n",
       "    </tr>\n",
       "    <tr>\n",
       "      <th>8</th>\n",
       "      <td>CERTIFIED</td>\n",
       "      <td>gth inc.</td>\n",
       "      <td>chief executives</td>\n",
       "      <td>vice president, business development</td>\n",
       "      <td>Y</td>\n",
       "      <td>149594.00</td>\n",
       "      <td>2016.0</td>\n",
       "      <td>washington, district of columbia</td>\n",
       "    </tr>\n",
       "    <tr>\n",
       "      <th>9</th>\n",
       "      <td>CERTIFIED</td>\n",
       "      <td>the kraft heinz company</td>\n",
       "      <td>chief executives</td>\n",
       "      <td>head of us sales</td>\n",
       "      <td>Y</td>\n",
       "      <td>226699.00</td>\n",
       "      <td>2016.0</td>\n",
       "      <td>chicago, illinois</td>\n",
       "    </tr>\n",
       "  </tbody>\n",
       "</table>\n",
       "</div>"
      ],
      "text/plain": [
       "  CASE_STATUS                             EMPLOYER_NAME          SOC_NAME  \\\n",
       "0   CERTIFIED                            quicklogix llc  chief executives   \n",
       "1   CERTIFIED                     mcchrystal group, llc  chief executives   \n",
       "2   CERTIFIED                               lomics, llc  chief executives   \n",
       "3   CERTIFIED  uc university high school education inc.  chief executives   \n",
       "4   CERTIFIED                          quicklogix, inc.  chief executives   \n",
       "5   CERTIFIED                                hello inc.  chief executives   \n",
       "6   CERTIFIED                                umbel corp  chief executives   \n",
       "7   CERTIFIED   perspectives of freedom foundation, inc  chief executives   \n",
       "8   CERTIFIED                                  gth inc.  chief executives   \n",
       "9   CERTIFIED                   the kraft heinz company  chief executives   \n",
       "\n",
       "                              JOB_TITLE FULL_TIME_POSITION  PREVAILING_WAGE  \\\n",
       "0                                   ceo                  Y        187200.00   \n",
       "1           president, northeast region                  Y        241842.00   \n",
       "2                                   ceo                  Y         99986.00   \n",
       "3               chief financial officer                  Y         99986.00   \n",
       "4                                   ceo                  Y        187200.00   \n",
       "5                chief business officer                  Y        215862.00   \n",
       "6         vice president of engineering                  Y        192088.00   \n",
       "7                    executive director                  Y         95295.98   \n",
       "8  vice president, business development                  Y        149594.00   \n",
       "9                      head of us sales                  Y        226699.00   \n",
       "\n",
       "     YEAR                          WORKSITE  \n",
       "0  2016.0           santa clara, california  \n",
       "1  2016.0              alexandria, virginia  \n",
       "2  2016.0             san diego, california  \n",
       "3  2016.0           chula vista, california  \n",
       "4  2016.0           santa clara, california  \n",
       "5  2016.0         san francisco, california  \n",
       "6  2016.0                     austin, texas  \n",
       "7  2016.0                   weston, florida  \n",
       "8  2016.0  washington, district of columbia  \n",
       "9  2016.0                 chicago, illinois  "
      ]
     },
     "execution_count": 49,
     "metadata": {},
     "output_type": "execute_result"
    }
   ],
   "source": [
    "df.head(10)"
   ]
  },
  {
   "cell_type": "code",
   "execution_count": 50,
   "id": "9ac2360f",
   "metadata": {},
   "outputs": [
    {
     "data": {
      "text/plain": [
       "computer systems analysts                             485193\n",
       "software developers, applications                     372124\n",
       "computer programmers                                  360575\n",
       "computer occupations, all other                       164659\n",
       "software developers, systems software                  75806\n",
       "                                                       ...  \n",
       "flight attendants                                          1\n",
       "sales representatives, wholesale and manufact              1\n",
       "foreign language & literature teachers, postsecond         1\n",
       "licensing examiners and inspectors                         1\n",
       "wind energy engineers                                      1\n",
       "Name: SOC_NAME, Length: 1517, dtype: int64"
      ]
     },
     "execution_count": 50,
     "metadata": {},
     "output_type": "execute_result"
    }
   ],
   "source": [
    "df['SOC_NAME'].value_counts()"
   ]
  },
  {
   "cell_type": "code",
   "execution_count": 51,
   "id": "e33cd15b",
   "metadata": {},
   "outputs": [
    {
     "data": {
      "image/png": "[encoded data removed]",
      "text/plain": [
       "<Figure size 504x360 with 1 Axes>"
      ]
     },
     "metadata": {},
     "output_type": "display_data"
    }
   ],
   "source": [
    "plt.figure(figsize=(7,5))\n",
    "df.CASE_STATUS.value_counts().loc[lambda x:x>1].plot(kind='barh')\n",
    "df.sort_values('CASE_STATUS')\n",
    "plt.title(\"NUMBER OF APPLICATIONS\")\n",
    "plt.show()"
   ]
  },
  {
   "cell_type": "code",
   "execution_count": 52,
   "id": "582930d8",
   "metadata": {},
   "outputs": [
    {
     "data": {
      "text/plain": [
       "<AxesSubplot:>"
      ]
     },
     "execution_count": 52,
     "metadata": {},
     "output_type": "execute_result"
    },
    {
     "data": {
      "image/png": "[encoded data removed]",
      "text/plain": [
       "<Figure size 432x288 with 1 Axes>"
      ]
     },
     "metadata": {},
     "output_type": "display_data"
    }
   ],
   "source": [
    "df.YEAR.value_counts().plot(kind = 'bar')"
   ]
  },
  {
   "cell_type": "code",
   "execution_count": 53,
   "id": "81597a9e",
   "metadata": {},
   "outputs": [
    {
     "name": "stdout",
     "output_type": "stream",
     "text": [
      "SOC_NAME         13-2011.01  15-1121  15-1132  15-1199.01  17-2051  27-3031  \\\n",
      "CASE_STATUS                                                                   \n",
      "CERTIFIED                 1        1        1           1        1        1   \n",
      "DENIED                    0        0        0           0        0        0   \n",
      "to_be_predicted           0        0        0           0        0        0   \n",
      "All                       1        1        1           1        1        1   \n",
      "\n",
      "SOC_NAME         <font><font>carpinteros</font></font>  able seamen  \\\n",
      "CASE_STATUS                                                           \n",
      "CERTIFIED                                            0            1   \n",
      "DENIED                                               1            1   \n",
      "to_be_predicted                                      0            0   \n",
      "All                                                  1            2   \n",
      "\n",
      "SOC_NAME         accountant  accountants  ...  \\\n",
      "CASE_STATUS                               ...   \n",
      "CERTIFIED                 2         2881  ...   \n",
      "DENIED                    0          776  ...   \n",
      "to_be_predicted           0            0  ...   \n",
      "All                       2         3657  ...   \n",
      "\n",
      "SOC_NAME         welders, cutters, solderers, and brazers  \\\n",
      "CASE_STATUS                                                 \n",
      "CERTIFIED                                              10   \n",
      "DENIED                                                  3   \n",
      "to_be_predicted                                         0   \n",
      "All                                                    13   \n",
      "\n",
      "SOC_NAME         welding, soldering, and brazing machine setters,  \\\n",
      "CASE_STATUS                                                         \n",
      "CERTIFIED                                                       1   \n",
      "DENIED                                                          0   \n",
      "to_be_predicted                                                 0   \n",
      "All                                                             1   \n",
      "\n",
      "SOC_NAME         welding, soldering, and brazing machine setters, o  \\\n",
      "CASE_STATUS                                                           \n",
      "CERTIFIED                                                        1    \n",
      "DENIED                                                           0    \n",
      "to_be_predicted                                                  0    \n",
      "All                                                              1    \n",
      "\n",
      "SOC_NAME         wholesale and retail buyers, except farm products  \\\n",
      "CASE_STATUS                                                          \n",
      "CERTIFIED                                                      588   \n",
      "DENIED                                                          87   \n",
      "to_be_predicted                                                  0   \n",
      "All                                                            675   \n",
      "\n",
      "SOC_NAME         wind energy engineers  wind turbine service technicians  \\\n",
      "CASE_STATUS                                                                \n",
      "CERTIFIED                            1                                 0   \n",
      "DENIED                               0                                 1   \n",
      "to_be_predicted                      0                                 0   \n",
      "All                                  1                                 1   \n",
      "\n",
      "SOC_NAME         woodworkers, all other  writers and authors  \\\n",
      "CASE_STATUS                                                    \n",
      "CERTIFIED                             3                  801   \n",
      "DENIED                                7                   90   \n",
      "to_be_predicted                       0                    0   \n",
      "All                                  10                  891   \n",
      "\n",
      "SOC_NAME         zoologists and wildlife biologists      All  \n",
      "CASE_STATUS                                                   \n",
      "CERTIFIED                                       431  2615623  \n",
      "DENIED                                           30    94346  \n",
      "to_be_predicted                                   0        1  \n",
      "All                                             461  2709970  \n",
      "\n",
      "[4 rows x 1518 columns]\n",
      "***PERCENTAGE**\n",
      "SOC_NAME         13-2011.01  15-1121  15-1132  15-1199.01  17-2051  27-3031  \\\n",
      "CASE_STATUS                                                                   \n",
      "CERTIFIED               1.0      1.0      1.0         1.0      1.0      1.0   \n",
      "DENIED                  0.0      0.0      0.0         0.0      0.0      0.0   \n",
      "to_be_predicted         0.0      0.0      0.0         0.0      0.0      0.0   \n",
      "All                     1.0      1.0      1.0         1.0      1.0      1.0   \n",
      "\n",
      "SOC_NAME         <font><font>carpinteros</font></font>  able seamen  \\\n",
      "CASE_STATUS                                                           \n",
      "CERTIFIED                                          0.0          0.5   \n",
      "DENIED                                             1.0          0.5   \n",
      "to_be_predicted                                    0.0          0.0   \n",
      "All                                                1.0          1.0   \n",
      "\n",
      "SOC_NAME         accountant  accountants  ...  \\\n",
      "CASE_STATUS                               ...   \n",
      "CERTIFIED               1.0     0.787804  ...   \n",
      "DENIED                  0.0     0.212196  ...   \n",
      "to_be_predicted         0.0     0.000000  ...   \n",
      "All                     1.0     1.000000  ...   \n",
      "\n",
      "SOC_NAME         welders, cutters, solderers, and brazers  \\\n",
      "CASE_STATUS                                                 \n",
      "CERTIFIED                                        0.769231   \n",
      "DENIED                                           0.230769   \n",
      "to_be_predicted                                  0.000000   \n",
      "All                                              1.000000   \n",
      "\n",
      "SOC_NAME         welding, soldering, and brazing machine setters,  \\\n",
      "CASE_STATUS                                                         \n",
      "CERTIFIED                                                     1.0   \n",
      "DENIED                                                        0.0   \n",
      "to_be_predicted                                               0.0   \n",
      "All                                                           1.0   \n",
      "\n",
      "SOC_NAME         welding, soldering, and brazing machine setters, o  \\\n",
      "CASE_STATUS                                                           \n",
      "CERTIFIED                                                      1.0    \n",
      "DENIED                                                         0.0    \n",
      "to_be_predicted                                                0.0    \n",
      "All                                                            1.0    \n",
      "\n",
      "SOC_NAME         wholesale and retail buyers, except farm products  \\\n",
      "CASE_STATUS                                                          \n",
      "CERTIFIED                                                 0.871111   \n",
      "DENIED                                                    0.128889   \n",
      "to_be_predicted                                           0.000000   \n",
      "All                                                       1.000000   \n",
      "\n",
      "SOC_NAME         wind energy engineers  wind turbine service technicians  \\\n",
      "CASE_STATUS                                                                \n",
      "CERTIFIED                          1.0                               0.0   \n",
      "DENIED                             0.0                               1.0   \n",
      "to_be_predicted                    0.0                               0.0   \n",
      "All                                1.0                               1.0   \n",
      "\n",
      "SOC_NAME         woodworkers, all other  writers and authors  \\\n",
      "CASE_STATUS                                                    \n",
      "CERTIFIED                           0.3              0.89899   \n",
      "DENIED                              0.7              0.10101   \n",
      "to_be_predicted                     0.0              0.00000   \n",
      "All                                 1.0              1.00000   \n",
      "\n",
      "SOC_NAME         zoologists and wildlife biologists           All  \n",
      "CASE_STATUS                                                        \n",
      "CERTIFIED                                  0.934924  9.651852e-01  \n",
      "DENIED                                     0.065076  3.481441e-02  \n",
      "to_be_predicted                            0.000000  3.690078e-07  \n",
      "All                                        1.000000  1.000000e+00  \n",
      "\n",
      "[4 rows x 1518 columns]\n"
     ]
    }
   ],
   "source": [
    "s=pd.crosstab(df.CASE_STATUS, df.SOC_NAME,margins=True)\n",
    "print(s)\n",
    "s=s/s.loc['All']\n",
    "print('***PERCENTAGE**')\n",
    "print(s)"
   ]
  },
  {
   "cell_type": "code",
   "execution_count": 54,
   "id": "1abf4670",
   "metadata": {},
   "outputs": [],
   "source": [
    "df['state'] = df.WORKSITE.str.split('\\s+').str[-1]"
   ]
  },
  {
   "cell_type": "code",
   "execution_count": 55,
   "id": "fd592ac2",
   "metadata": {},
   "outputs": [
    {
     "data": {
      "text/html": [
       "<div>\n",
       "<style scoped>\n",
       "    .dataframe tbody tr th:only-of-type {\n",
       "        vertical-align: middle;\n",
       "    }\n",
       "\n",
       "    .dataframe tbody tr th {\n",
       "        vertical-align: top;\n",
       "    }\n",
       "\n",
       "    .dataframe thead th {\n",
       "        text-align: right;\n",
       "    }\n",
       "</style>\n",
       "<table border=\"1\" class=\"dataframe\">\n",
       "  <thead>\n",
       "    <tr style=\"text-align: right;\">\n",
       "      <th></th>\n",
       "      <th>CASE_STATUS</th>\n",
       "      <th>EMPLOYER_NAME</th>\n",
       "      <th>SOC_NAME</th>\n",
       "      <th>JOB_TITLE</th>\n",
       "      <th>FULL_TIME_POSITION</th>\n",
       "      <th>PREVAILING_WAGE</th>\n",
       "      <th>YEAR</th>\n",
       "      <th>WORKSITE</th>\n",
       "      <th>state</th>\n",
       "    </tr>\n",
       "  </thead>\n",
       "  <tbody>\n",
       "    <tr>\n",
       "      <th>0</th>\n",
       "      <td>CERTIFIED</td>\n",
       "      <td>quicklogix llc</td>\n",
       "      <td>chief executives</td>\n",
       "      <td>ceo</td>\n",
       "      <td>Y</td>\n",
       "      <td>187200.0</td>\n",
       "      <td>2016.0</td>\n",
       "      <td>santa clara, california</td>\n",
       "      <td>california</td>\n",
       "    </tr>\n",
       "    <tr>\n",
       "      <th>1</th>\n",
       "      <td>CERTIFIED</td>\n",
       "      <td>mcchrystal group, llc</td>\n",
       "      <td>chief executives</td>\n",
       "      <td>president, northeast region</td>\n",
       "      <td>Y</td>\n",
       "      <td>241842.0</td>\n",
       "      <td>2016.0</td>\n",
       "      <td>alexandria, virginia</td>\n",
       "      <td>virginia</td>\n",
       "    </tr>\n",
       "    <tr>\n",
       "      <th>2</th>\n",
       "      <td>CERTIFIED</td>\n",
       "      <td>lomics, llc</td>\n",
       "      <td>chief executives</td>\n",
       "      <td>ceo</td>\n",
       "      <td>Y</td>\n",
       "      <td>99986.0</td>\n",
       "      <td>2016.0</td>\n",
       "      <td>san diego, california</td>\n",
       "      <td>california</td>\n",
       "    </tr>\n",
       "    <tr>\n",
       "      <th>3</th>\n",
       "      <td>CERTIFIED</td>\n",
       "      <td>uc university high school education inc.</td>\n",
       "      <td>chief executives</td>\n",
       "      <td>chief financial officer</td>\n",
       "      <td>Y</td>\n",
       "      <td>99986.0</td>\n",
       "      <td>2016.0</td>\n",
       "      <td>chula vista, california</td>\n",
       "      <td>california</td>\n",
       "    </tr>\n",
       "    <tr>\n",
       "      <th>4</th>\n",
       "      <td>CERTIFIED</td>\n",
       "      <td>quicklogix, inc.</td>\n",
       "      <td>chief executives</td>\n",
       "      <td>ceo</td>\n",
       "      <td>Y</td>\n",
       "      <td>187200.0</td>\n",
       "      <td>2016.0</td>\n",
       "      <td>santa clara, california</td>\n",
       "      <td>california</td>\n",
       "    </tr>\n",
       "  </tbody>\n",
       "</table>\n",
       "</div>"
      ],
      "text/plain": [
       "  CASE_STATUS                             EMPLOYER_NAME          SOC_NAME  \\\n",
       "0   CERTIFIED                            quicklogix llc  chief executives   \n",
       "1   CERTIFIED                     mcchrystal group, llc  chief executives   \n",
       "2   CERTIFIED                               lomics, llc  chief executives   \n",
       "3   CERTIFIED  uc university high school education inc.  chief executives   \n",
       "4   CERTIFIED                          quicklogix, inc.  chief executives   \n",
       "\n",
       "                     JOB_TITLE FULL_TIME_POSITION  PREVAILING_WAGE    YEAR  \\\n",
       "0                          ceo                  Y         187200.0  2016.0   \n",
       "1  president, northeast region                  Y         241842.0  2016.0   \n",
       "2                          ceo                  Y          99986.0  2016.0   \n",
       "3      chief financial officer                  Y          99986.0  2016.0   \n",
       "4                          ceo                  Y         187200.0  2016.0   \n",
       "\n",
       "                  WORKSITE       state  \n",
       "0  santa clara, california  california  \n",
       "1     alexandria, virginia    virginia  \n",
       "2    san diego, california  california  \n",
       "3  chula vista, california  california  \n",
       "4  santa clara, california  california  "
      ]
     },
     "execution_count": 55,
     "metadata": {},
     "output_type": "execute_result"
    }
   ],
   "source": [
    "df.head()"
   ]
  },
  {
   "cell_type": "code",
   "execution_count": 56,
   "id": "5cf7bd33",
   "metadata": {},
   "outputs": [],
   "source": [
    "df = df.drop('WORKSITE', axis = 1)"
   ]
  },
  {
   "cell_type": "code",
   "execution_count": 57,
   "id": "84a805dd",
   "metadata": {},
   "outputs": [
    {
     "data": {
      "text/html": [
       "<div>\n",
       "<style scoped>\n",
       "    .dataframe tbody tr th:only-of-type {\n",
       "        vertical-align: middle;\n",
       "    }\n",
       "\n",
       "    .dataframe tbody tr th {\n",
       "        vertical-align: top;\n",
       "    }\n",
       "\n",
       "    .dataframe thead th {\n",
       "        text-align: right;\n",
       "    }\n",
       "</style>\n",
       "<table border=\"1\" class=\"dataframe\">\n",
       "  <thead>\n",
       "    <tr style=\"text-align: right;\">\n",
       "      <th></th>\n",
       "      <th>CASE_STATUS</th>\n",
       "      <th>EMPLOYER_NAME</th>\n",
       "      <th>SOC_NAME</th>\n",
       "      <th>JOB_TITLE</th>\n",
       "      <th>FULL_TIME_POSITION</th>\n",
       "      <th>PREVAILING_WAGE</th>\n",
       "      <th>YEAR</th>\n",
       "      <th>state</th>\n",
       "    </tr>\n",
       "  </thead>\n",
       "  <tbody>\n",
       "    <tr>\n",
       "      <th>0</th>\n",
       "      <td>CERTIFIED</td>\n",
       "      <td>quicklogix llc</td>\n",
       "      <td>chief executives</td>\n",
       "      <td>ceo</td>\n",
       "      <td>Y</td>\n",
       "      <td>187200.0</td>\n",
       "      <td>2016.0</td>\n",
       "      <td>california</td>\n",
       "    </tr>\n",
       "    <tr>\n",
       "      <th>1</th>\n",
       "      <td>CERTIFIED</td>\n",
       "      <td>mcchrystal group, llc</td>\n",
       "      <td>chief executives</td>\n",
       "      <td>president, northeast region</td>\n",
       "      <td>Y</td>\n",
       "      <td>241842.0</td>\n",
       "      <td>2016.0</td>\n",
       "      <td>virginia</td>\n",
       "    </tr>\n",
       "    <tr>\n",
       "      <th>2</th>\n",
       "      <td>CERTIFIED</td>\n",
       "      <td>lomics, llc</td>\n",
       "      <td>chief executives</td>\n",
       "      <td>ceo</td>\n",
       "      <td>Y</td>\n",
       "      <td>99986.0</td>\n",
       "      <td>2016.0</td>\n",
       "      <td>california</td>\n",
       "    </tr>\n",
       "    <tr>\n",
       "      <th>3</th>\n",
       "      <td>CERTIFIED</td>\n",
       "      <td>uc university high school education inc.</td>\n",
       "      <td>chief executives</td>\n",
       "      <td>chief financial officer</td>\n",
       "      <td>Y</td>\n",
       "      <td>99986.0</td>\n",
       "      <td>2016.0</td>\n",
       "      <td>california</td>\n",
       "    </tr>\n",
       "    <tr>\n",
       "      <th>4</th>\n",
       "      <td>CERTIFIED</td>\n",
       "      <td>quicklogix, inc.</td>\n",
       "      <td>chief executives</td>\n",
       "      <td>ceo</td>\n",
       "      <td>Y</td>\n",
       "      <td>187200.0</td>\n",
       "      <td>2016.0</td>\n",
       "      <td>california</td>\n",
       "    </tr>\n",
       "  </tbody>\n",
       "</table>\n",
       "</div>"
      ],
      "text/plain": [
       "  CASE_STATUS                             EMPLOYER_NAME          SOC_NAME  \\\n",
       "0   CERTIFIED                            quicklogix llc  chief executives   \n",
       "1   CERTIFIED                     mcchrystal group, llc  chief executives   \n",
       "2   CERTIFIED                               lomics, llc  chief executives   \n",
       "3   CERTIFIED  uc university high school education inc.  chief executives   \n",
       "4   CERTIFIED                          quicklogix, inc.  chief executives   \n",
       "\n",
       "                     JOB_TITLE FULL_TIME_POSITION  PREVAILING_WAGE    YEAR  \\\n",
       "0                          ceo                  Y         187200.0  2016.0   \n",
       "1  president, northeast region                  Y         241842.0  2016.0   \n",
       "2                          ceo                  Y          99986.0  2016.0   \n",
       "3      chief financial officer                  Y          99986.0  2016.0   \n",
       "4                          ceo                  Y         187200.0  2016.0   \n",
       "\n",
       "        state  \n",
       "0  california  \n",
       "1    virginia  \n",
       "2  california  \n",
       "3  california  \n",
       "4  california  "
      ]
     },
     "execution_count": 57,
     "metadata": {},
     "output_type": "execute_result"
    }
   ],
   "source": [
    "df.head()"
   ]
  },
  {
   "cell_type": "code",
   "execution_count": 58,
   "id": "20867892",
   "metadata": {},
   "outputs": [],
   "source": [
    "mode = df.loc[df['PREVAILING_WAGE']<150000, 'PREVAILING_WAGE'].mode()[0]\n",
    "df.loc[df.PREVAILING_WAGE > 150000, 'PREVAILING_WAGE'] = np.nan\n",
    "df.fillna(mode,inplace=True)"
   ]
  },
  {
   "cell_type": "code",
   "execution_count": 59,
   "id": "8eb0cf18",
   "metadata": {},
   "outputs": [
    {
     "data": {
      "text/plain": [
       "<AxesSubplot:>"
      ]
     },
     "execution_count": 59,
     "metadata": {},
     "output_type": "execute_result"
    },
    {
     "data": {
      "image/png": "[encoded data removed]",
      "text/plain": [
       "<Figure size 432x288 with 1 Axes>"
      ]
     },
     "metadata": {},
     "output_type": "display_data"
    }
   ],
   "source": [
    "mode = df.loc[df['PREVAILING_WAGE']>15000, 'PREVAILING_WAGE'].mode()[0]\n",
    "df.loc[df.PREVAILING_WAGE < 15000, 'PREVAILING_WAGE'] = np.nan\n",
    "df.fillna(mode,inplace=True)\n",
    "df[\"PREVAILING_WAGE\"].plot(kind=\"box\")"
   ]
  },
  {
   "cell_type": "code",
   "execution_count": 60,
   "id": "43b8d15e",
   "metadata": {},
   "outputs": [
    {
     "data": {
      "text/plain": [
       "CASE_STATUS           0\n",
       "EMPLOYER_NAME         0\n",
       "SOC_NAME              0\n",
       "JOB_TITLE             0\n",
       "FULL_TIME_POSITION    0\n",
       "PREVAILING_WAGE       0\n",
       "YEAR                  0\n",
       "state                 0\n",
       "dtype: int64"
      ]
     },
     "execution_count": 60,
     "metadata": {},
     "output_type": "execute_result"
    }
   ],
   "source": [
    "df.isna().sum()"
   ]
  },
  {
   "cell_type": "markdown",
   "id": "04b76079",
   "metadata": {},
   "source": [
    "# Bivariate Analysis"
   ]
  },
  {
   "cell_type": "code",
   "execution_count": 61,
   "id": "6e8aef38",
   "metadata": {},
   "outputs": [],
   "source": [
    "Pie=df[\"EMPLOYER_NAME\"].value_counts().to_frame()[:20]\n",
    "Pie.reset_index(inplace=True)\n",
    "Pie.columns = [\"EMPLOYER_NAME\",\"No. OF APPLICANTS\"]\n",
    "s1 = pd.merge(df, Pie, how='inner', on=['EMPLOYER_NAME'])"
   ]
  },
  {
   "cell_type": "code",
   "execution_count": 62,
   "id": "44e9bc8c",
   "metadata": {},
   "outputs": [
    {
     "data": {
      "text/html": [
       "<div>\n",
       "<style scoped>\n",
       "    .dataframe tbody tr th:only-of-type {\n",
       "        vertical-align: middle;\n",
       "    }\n",
       "\n",
       "    .dataframe tbody tr th {\n",
       "        vertical-align: top;\n",
       "    }\n",
       "\n",
       "    .dataframe thead th {\n",
       "        text-align: right;\n",
       "    }\n",
       "</style>\n",
       "<table border=\"1\" class=\"dataframe\">\n",
       "  <thead>\n",
       "    <tr style=\"text-align: right;\">\n",
       "      <th></th>\n",
       "      <th>EMPLOYER_NAME</th>\n",
       "      <th>PREVAILING_WAGE</th>\n",
       "      <th>No. OF APPLICANTS</th>\n",
       "    </tr>\n",
       "  </thead>\n",
       "  <tbody>\n",
       "    <tr>\n",
       "      <th>0</th>\n",
       "      <td>accenture llp</td>\n",
       "      <td>73243.591638</td>\n",
       "      <td>32983</td>\n",
       "    </tr>\n",
       "    <tr>\n",
       "      <th>1</th>\n",
       "      <td>amazon corporate llc</td>\n",
       "      <td>88005.490225</td>\n",
       "      <td>8235</td>\n",
       "    </tr>\n",
       "    <tr>\n",
       "      <th>2</th>\n",
       "      <td>apple inc.</td>\n",
       "      <td>107128.089145</td>\n",
       "      <td>6819</td>\n",
       "    </tr>\n",
       "    <tr>\n",
       "      <th>3</th>\n",
       "      <td>capgemini america inc</td>\n",
       "      <td>79349.092877</td>\n",
       "      <td>16032</td>\n",
       "    </tr>\n",
       "    <tr>\n",
       "      <th>4</th>\n",
       "      <td>cognizant technology solutions u.s. corporation</td>\n",
       "      <td>70132.380709</td>\n",
       "      <td>15448</td>\n",
       "    </tr>\n",
       "    <tr>\n",
       "      <th>5</th>\n",
       "      <td>deloitte &amp; touche llp</td>\n",
       "      <td>59482.448256</td>\n",
       "      <td>9603</td>\n",
       "    </tr>\n",
       "    <tr>\n",
       "      <th>6</th>\n",
       "      <td>deloitte consulting llp</td>\n",
       "      <td>73427.325715</td>\n",
       "      <td>36667</td>\n",
       "    </tr>\n",
       "    <tr>\n",
       "      <th>7</th>\n",
       "      <td>ernst &amp; young u.s. llp</td>\n",
       "      <td>69692.718549</td>\n",
       "      <td>18217</td>\n",
       "    </tr>\n",
       "    <tr>\n",
       "      <th>8</th>\n",
       "      <td>google inc.</td>\n",
       "      <td>99504.805277</td>\n",
       "      <td>12545</td>\n",
       "    </tr>\n",
       "    <tr>\n",
       "      <th>9</th>\n",
       "      <td>hcl america, inc.</td>\n",
       "      <td>69779.483789</td>\n",
       "      <td>22330</td>\n",
       "    </tr>\n",
       "    <tr>\n",
       "      <th>10</th>\n",
       "      <td>ibm corporation</td>\n",
       "      <td>75223.672023</td>\n",
       "      <td>10690</td>\n",
       "    </tr>\n",
       "    <tr>\n",
       "      <th>11</th>\n",
       "      <td>ibm india private limited</td>\n",
       "      <td>67748.563907</td>\n",
       "      <td>28166</td>\n",
       "    </tr>\n",
       "    <tr>\n",
       "      <th>12</th>\n",
       "      <td>igate technologies inc.</td>\n",
       "      <td>67624.019351</td>\n",
       "      <td>12196</td>\n",
       "    </tr>\n",
       "    <tr>\n",
       "      <th>13</th>\n",
       "      <td>infosys limited</td>\n",
       "      <td>69063.158821</td>\n",
       "      <td>130260</td>\n",
       "    </tr>\n",
       "    <tr>\n",
       "      <th>14</th>\n",
       "      <td>intel corporation</td>\n",
       "      <td>88230.367538</td>\n",
       "      <td>10215</td>\n",
       "    </tr>\n",
       "    <tr>\n",
       "      <th>15</th>\n",
       "      <td>larsen &amp; toubro infotech limited</td>\n",
       "      <td>57305.705035</td>\n",
       "      <td>16724</td>\n",
       "    </tr>\n",
       "    <tr>\n",
       "      <th>16</th>\n",
       "      <td>microsoft corporation</td>\n",
       "      <td>90034.818674</td>\n",
       "      <td>22373</td>\n",
       "    </tr>\n",
       "    <tr>\n",
       "      <th>17</th>\n",
       "      <td>tata consultancy services limited</td>\n",
       "      <td>61106.519536</td>\n",
       "      <td>64358</td>\n",
       "    </tr>\n",
       "    <tr>\n",
       "      <th>18</th>\n",
       "      <td>tech mahindra (americas),inc.</td>\n",
       "      <td>71716.213162</td>\n",
       "      <td>10682</td>\n",
       "    </tr>\n",
       "    <tr>\n",
       "      <th>19</th>\n",
       "      <td>wipro limited</td>\n",
       "      <td>69959.631837</td>\n",
       "      <td>43679</td>\n",
       "    </tr>\n",
       "  </tbody>\n",
       "</table>\n",
       "</div>"
      ],
      "text/plain": [
       "                                      EMPLOYER_NAME  PREVAILING_WAGE  \\\n",
       "0                                     accenture llp     73243.591638   \n",
       "1                              amazon corporate llc     88005.490225   \n",
       "2                                        apple inc.    107128.089145   \n",
       "3                             capgemini america inc     79349.092877   \n",
       "4   cognizant technology solutions u.s. corporation     70132.380709   \n",
       "5                             deloitte & touche llp     59482.448256   \n",
       "6                           deloitte consulting llp     73427.325715   \n",
       "7                            ernst & young u.s. llp     69692.718549   \n",
       "8                                       google inc.     99504.805277   \n",
       "9                                 hcl america, inc.     69779.483789   \n",
       "10                                  ibm corporation     75223.672023   \n",
       "11                        ibm india private limited     67748.563907   \n",
       "12                          igate technologies inc.     67624.019351   \n",
       "13                                  infosys limited     69063.158821   \n",
       "14                                intel corporation     88230.367538   \n",
       "15                 larsen & toubro infotech limited     57305.705035   \n",
       "16                            microsoft corporation     90034.818674   \n",
       "17                tata consultancy services limited     61106.519536   \n",
       "18                    tech mahindra (americas),inc.     71716.213162   \n",
       "19                                    wipro limited     69959.631837   \n",
       "\n",
       "    No. OF APPLICANTS  \n",
       "0               32983  \n",
       "1                8235  \n",
       "2                6819  \n",
       "3               16032  \n",
       "4               15448  \n",
       "5                9603  \n",
       "6               36667  \n",
       "7               18217  \n",
       "8               12545  \n",
       "9               22330  \n",
       "10              10690  \n",
       "11              28166  \n",
       "12              12196  \n",
       "13             130260  \n",
       "14              10215  \n",
       "15              16724  \n",
       "16              22373  \n",
       "17              64358  \n",
       "18              10682  \n",
       "19              43679  "
      ]
     },
     "execution_count": 62,
     "metadata": {},
     "output_type": "execute_result"
    }
   ],
   "source": [
    "s2=s1.groupby([\"EMPLOYER_NAME\"]).mean()\n",
    "s2.reset_index(inplace=True)\n",
    "s2[['EMPLOYER_NAME','PREVAILING_WAGE','No. OF APPLICANTS']]"
   ]
  },
  {
   "cell_type": "code",
   "execution_count": 63,
   "id": "60c9d85c",
   "metadata": {},
   "outputs": [
    {
     "data": {
      "text/plain": [
       "<AxesSubplot:xlabel='EMPLOYER_NAME'>"
      ]
     },
     "execution_count": 63,
     "metadata": {},
     "output_type": "execute_result"
    },
    {
     "data": {
      "image/png": "[encoded data removed]",
      "text/plain": [
       "<Figure size 1296x360 with 1 Axes>"
      ]
     },
     "metadata": {},
     "output_type": "display_data"
    }
   ],
   "source": [
    "s1.groupby([\"EMPLOYER_NAME\"]).PREVAILING_WAGE.mean().plot(kind='bar',x='EMPLOYER_NAME',y='PREVAILING_WAGE',figsize=(18,5))"
   ]
  },
  {
   "cell_type": "code",
   "execution_count": 64,
   "id": "cfcd1fb9",
   "metadata": {},
   "outputs": [
    {
     "data": {
      "text/html": [
       "<div>\n",
       "<style scoped>\n",
       "    .dataframe tbody tr th:only-of-type {\n",
       "        vertical-align: middle;\n",
       "    }\n",
       "\n",
       "    .dataframe tbody tr th {\n",
       "        vertical-align: top;\n",
       "    }\n",
       "\n",
       "    .dataframe thead th {\n",
       "        text-align: right;\n",
       "    }\n",
       "</style>\n",
       "<table border=\"1\" class=\"dataframe\">\n",
       "  <thead>\n",
       "    <tr style=\"text-align: right;\">\n",
       "      <th></th>\n",
       "      <th>SOC_NAME</th>\n",
       "      <th>PREVAILING_WAGE</th>\n",
       "      <th>No. OF APPLICANTS</th>\n",
       "    </tr>\n",
       "  </thead>\n",
       "  <tbody>\n",
       "    <tr>\n",
       "      <th>0</th>\n",
       "      <td>accountants and auditors</td>\n",
       "      <td>56128.344108</td>\n",
       "      <td>49780</td>\n",
       "    </tr>\n",
       "    <tr>\n",
       "      <th>1</th>\n",
       "      <td>computer and information systems managers</td>\n",
       "      <td>99640.771134</td>\n",
       "      <td>25140</td>\n",
       "    </tr>\n",
       "    <tr>\n",
       "      <th>2</th>\n",
       "      <td>computer occupations, all other</td>\n",
       "      <td>68619.147511</td>\n",
       "      <td>164659</td>\n",
       "    </tr>\n",
       "    <tr>\n",
       "      <th>3</th>\n",
       "      <td>computer occupations, all other*</td>\n",
       "      <td>64486.234872</td>\n",
       "      <td>24545</td>\n",
       "    </tr>\n",
       "    <tr>\n",
       "      <th>4</th>\n",
       "      <td>computer programmers</td>\n",
       "      <td>60416.882406</td>\n",
       "      <td>360575</td>\n",
       "    </tr>\n",
       "    <tr>\n",
       "      <th>5</th>\n",
       "      <td>computer software engineers, applications</td>\n",
       "      <td>78635.622632</td>\n",
       "      <td>28189</td>\n",
       "    </tr>\n",
       "    <tr>\n",
       "      <th>6</th>\n",
       "      <td>computer systems analysts</td>\n",
       "      <td>68191.434205</td>\n",
       "      <td>485193</td>\n",
       "    </tr>\n",
       "    <tr>\n",
       "      <th>7</th>\n",
       "      <td>database administrators</td>\n",
       "      <td>67203.615349</td>\n",
       "      <td>35303</td>\n",
       "    </tr>\n",
       "    <tr>\n",
       "      <th>8</th>\n",
       "      <td>electrical engineers</td>\n",
       "      <td>78432.030860</td>\n",
       "      <td>30159</td>\n",
       "    </tr>\n",
       "    <tr>\n",
       "      <th>9</th>\n",
       "      <td>electronics engineers, except computer</td>\n",
       "      <td>86076.768200</td>\n",
       "      <td>31782</td>\n",
       "    </tr>\n",
       "    <tr>\n",
       "      <th>10</th>\n",
       "      <td>financial analysts</td>\n",
       "      <td>74191.163154</td>\n",
       "      <td>46730</td>\n",
       "    </tr>\n",
       "    <tr>\n",
       "      <th>11</th>\n",
       "      <td>management analysts</td>\n",
       "      <td>71389.395519</td>\n",
       "      <td>62096</td>\n",
       "    </tr>\n",
       "    <tr>\n",
       "      <th>12</th>\n",
       "      <td>market research analysts and marketing special...</td>\n",
       "      <td>52463.483847</td>\n",
       "      <td>34433</td>\n",
       "    </tr>\n",
       "    <tr>\n",
       "      <th>13</th>\n",
       "      <td>mechanical engineers</td>\n",
       "      <td>69885.008325</td>\n",
       "      <td>39844</td>\n",
       "    </tr>\n",
       "    <tr>\n",
       "      <th>14</th>\n",
       "      <td>medical scientists, except epidemiologists</td>\n",
       "      <td>48490.224724</td>\n",
       "      <td>20994</td>\n",
       "    </tr>\n",
       "    <tr>\n",
       "      <th>15</th>\n",
       "      <td>network and computer systems administrators</td>\n",
       "      <td>66188.725893</td>\n",
       "      <td>36219</td>\n",
       "    </tr>\n",
       "    <tr>\n",
       "      <th>16</th>\n",
       "      <td>operations research analysts</td>\n",
       "      <td>69241.902832</td>\n",
       "      <td>30328</td>\n",
       "    </tr>\n",
       "    <tr>\n",
       "      <th>17</th>\n",
       "      <td>physicians and surgeons, all other</td>\n",
       "      <td>70699.151882</td>\n",
       "      <td>30641</td>\n",
       "    </tr>\n",
       "    <tr>\n",
       "      <th>18</th>\n",
       "      <td>software developers, applications</td>\n",
       "      <td>81882.311822</td>\n",
       "      <td>372124</td>\n",
       "    </tr>\n",
       "    <tr>\n",
       "      <th>19</th>\n",
       "      <td>software developers, systems software</td>\n",
       "      <td>90643.176314</td>\n",
       "      <td>75806</td>\n",
       "    </tr>\n",
       "  </tbody>\n",
       "</table>\n",
       "</div>"
      ],
      "text/plain": [
       "                                             SOC_NAME  PREVAILING_WAGE  \\\n",
       "0                            accountants and auditors     56128.344108   \n",
       "1           computer and information systems managers     99640.771134   \n",
       "2                     computer occupations, all other     68619.147511   \n",
       "3                    computer occupations, all other*     64486.234872   \n",
       "4                                computer programmers     60416.882406   \n",
       "5           computer software engineers, applications     78635.622632   \n",
       "6                           computer systems analysts     68191.434205   \n",
       "7                             database administrators     67203.615349   \n",
       "8                                electrical engineers     78432.030860   \n",
       "9              electronics engineers, except computer     86076.768200   \n",
       "10                                 financial analysts     74191.163154   \n",
       "11                                management analysts     71389.395519   \n",
       "12  market research analysts and marketing special...     52463.483847   \n",
       "13                               mechanical engineers     69885.008325   \n",
       "14         medical scientists, except epidemiologists     48490.224724   \n",
       "15        network and computer systems administrators     66188.725893   \n",
       "16                       operations research analysts     69241.902832   \n",
       "17                 physicians and surgeons, all other     70699.151882   \n",
       "18                  software developers, applications     81882.311822   \n",
       "19              software developers, systems software     90643.176314   \n",
       "\n",
       "    No. OF APPLICANTS  \n",
       "0               49780  \n",
       "1               25140  \n",
       "2              164659  \n",
       "3               24545  \n",
       "4              360575  \n",
       "5               28189  \n",
       "6              485193  \n",
       "7               35303  \n",
       "8               30159  \n",
       "9               31782  \n",
       "10              46730  \n",
       "11              62096  \n",
       "12              34433  \n",
       "13              39844  \n",
       "14              20994  \n",
       "15              36219  \n",
       "16              30328  \n",
       "17              30641  \n",
       "18             372124  \n",
       "19              75806  "
      ]
     },
     "execution_count": 64,
     "metadata": {},
     "output_type": "execute_result"
    }
   ],
   "source": [
    "Pie=df[\"SOC_NAME\"].value_counts().to_frame()[:20]\n",
    "Pie.reset_index(inplace=True)\n",
    "Pie.columns = [\"SOC_NAME\",\"No. OF APPLICANTS\"]\n",
    "s1 = pd.merge(df, Pie, how='inner', on=['SOC_NAME'])\n",
    "s2=s1.groupby([\"SOC_NAME\"]).mean()\n",
    "s2.reset_index(inplace=True)\n",
    "s2[['SOC_NAME','PREVAILING_WAGE','No. OF APPLICANTS']]"
   ]
  },
  {
   "cell_type": "code",
   "execution_count": 65,
   "id": "6b660a65",
   "metadata": {},
   "outputs": [
    {
     "data": {
      "text/plain": [
       "<AxesSubplot:xlabel='SOC_NAME'>"
      ]
     },
     "execution_count": 65,
     "metadata": {},
     "output_type": "execute_result"
    },
    {
     "data": {
      "image/png": "[encoded data removed]",
      "text/plain": [
       "<Figure size 1296x360 with 1 Axes>"
      ]
     },
     "metadata": {},
     "output_type": "display_data"
    }
   ],
   "source": [
    "s1.groupby([\"SOC_NAME\"]).PREVAILING_WAGE.mean().plot(kind='bar',x='SOC_NAME',y='PREVAILING_WAGE',figsize=(18,5))"
   ]
  },
  {
   "cell_type": "markdown",
   "id": "905d3f57",
   "metadata": {},
   "source": [
    "# PRE-PROCESSING"
   ]
  },
  {
   "cell_type": "code",
   "execution_count": 66,
   "id": "9ba42666",
   "metadata": {},
   "outputs": [],
   "source": [
    "from sklearn import preprocessing\n",
    "def Encoder(df):\n",
    "          columnsToEncode = list(df.select_dtypes(include=['category','object']))\n",
    "          le = preprocessing.LabelEncoder()\n",
    "          for feature in columnsToEncode:\n",
    "              try:\n",
    "                  df[feature] = le.fit_transform(df[feature])\n",
    "              except:\n",
    "                  print('Error encoding '+feature)\n",
    "          return df\n",
    "df = Encoder(df)"
   ]
  },
  {
   "cell_type": "code",
   "execution_count": 67,
   "id": "130f0dee",
   "metadata": {},
   "outputs": [],
   "source": [
    "y = df['CASE_STATUS']"
   ]
  },
  {
   "cell_type": "code",
   "execution_count": 68,
   "id": "bb704e0c",
   "metadata": {},
   "outputs": [],
   "source": [
    "x_to_pred = df.loc[[929921], : ]"
   ]
  },
  {
   "cell_type": "code",
   "execution_count": 69,
   "id": "6de33bc5",
   "metadata": {},
   "outputs": [
    {
     "data": {
      "text/html": [
       "<div>\n",
       "<style scoped>\n",
       "    .dataframe tbody tr th:only-of-type {\n",
       "        vertical-align: middle;\n",
       "    }\n",
       "\n",
       "    .dataframe tbody tr th {\n",
       "        vertical-align: top;\n",
       "    }\n",
       "\n",
       "    .dataframe thead th {\n",
       "        text-align: right;\n",
       "    }\n",
       "</style>\n",
       "<table border=\"1\" class=\"dataframe\">\n",
       "  <thead>\n",
       "    <tr style=\"text-align: right;\">\n",
       "      <th></th>\n",
       "      <th>EMPLOYER_NAME</th>\n",
       "      <th>SOC_NAME</th>\n",
       "      <th>JOB_TITLE</th>\n",
       "      <th>FULL_TIME_POSITION</th>\n",
       "      <th>PREVAILING_WAGE</th>\n",
       "      <th>YEAR</th>\n",
       "      <th>state</th>\n",
       "    </tr>\n",
       "  </thead>\n",
       "  <tbody>\n",
       "    <tr>\n",
       "      <th>929921</th>\n",
       "      <td>110692</td>\n",
       "      <td>263</td>\n",
       "      <td>55987</td>\n",
       "      <td>1</td>\n",
       "      <td>60528.0</td>\n",
       "      <td>2015.0</td>\n",
       "      <td>4</td>\n",
       "    </tr>\n",
       "  </tbody>\n",
       "</table>\n",
       "</div>"
      ],
      "text/plain": [
       "        EMPLOYER_NAME  SOC_NAME  JOB_TITLE  FULL_TIME_POSITION  \\\n",
       "929921         110692       263      55987                   1   \n",
       "\n",
       "        PREVAILING_WAGE    YEAR  state  \n",
       "929921          60528.0  2015.0      4  "
      ]
     },
     "execution_count": 69,
     "metadata": {},
     "output_type": "execute_result"
    }
   ],
   "source": [
    "x_to_pred = x_to_pred.drop('CASE_STATUS',axis=1)\n",
    "x_to_pred"
   ]
  },
  {
   "cell_type": "code",
   "execution_count": 70,
   "id": "45b69978",
   "metadata": {},
   "outputs": [
    {
     "data": {
      "text/plain": [
       "0          0\n",
       "1          0\n",
       "2          0\n",
       "3          0\n",
       "4          0\n",
       "          ..\n",
       "2709965    1\n",
       "2709966    1\n",
       "2709967    1\n",
       "2709968    1\n",
       "2709982    2\n",
       "Name: CASE_STATUS, Length: 2709970, dtype: int32"
      ]
     },
     "execution_count": 70,
     "metadata": {},
     "output_type": "execute_result"
    }
   ],
   "source": [
    "y"
   ]
  },
  {
   "cell_type": "code",
   "execution_count": 71,
   "id": "e79e2489",
   "metadata": {},
   "outputs": [],
   "source": [
    "X = df.drop('CASE_STATUS', axis=1)"
   ]
  },
  {
   "cell_type": "code",
   "execution_count": 72,
   "id": "1355b995",
   "metadata": {},
   "outputs": [
    {
     "data": {
      "text/html": [
       "<div>\n",
       "<style scoped>\n",
       "    .dataframe tbody tr th:only-of-type {\n",
       "        vertical-align: middle;\n",
       "    }\n",
       "\n",
       "    .dataframe tbody tr th {\n",
       "        vertical-align: top;\n",
       "    }\n",
       "\n",
       "    .dataframe thead th {\n",
       "        text-align: right;\n",
       "    }\n",
       "</style>\n",
       "<table border=\"1\" class=\"dataframe\">\n",
       "  <thead>\n",
       "    <tr style=\"text-align: right;\">\n",
       "      <th></th>\n",
       "      <th>EMPLOYER_NAME</th>\n",
       "      <th>SOC_NAME</th>\n",
       "      <th>JOB_TITLE</th>\n",
       "      <th>FULL_TIME_POSITION</th>\n",
       "      <th>PREVAILING_WAGE</th>\n",
       "      <th>YEAR</th>\n",
       "      <th>state</th>\n",
       "    </tr>\n",
       "  </thead>\n",
       "  <tbody>\n",
       "    <tr>\n",
       "      <th>0</th>\n",
       "      <td>166288</td>\n",
       "      <td>174</td>\n",
       "      <td>40035</td>\n",
       "      <td>1</td>\n",
       "      <td>60000.0</td>\n",
       "      <td>2016.0</td>\n",
       "      <td>4</td>\n",
       "    </tr>\n",
       "    <tr>\n",
       "      <th>1</th>\n",
       "      <td>128943</td>\n",
       "      <td>174</td>\n",
       "      <td>158791</td>\n",
       "      <td>1</td>\n",
       "      <td>60000.0</td>\n",
       "      <td>2016.0</td>\n",
       "      <td>45</td>\n",
       "    </tr>\n",
       "    <tr>\n",
       "      <th>2</th>\n",
       "      <td>122252</td>\n",
       "      <td>174</td>\n",
       "      <td>40035</td>\n",
       "      <td>1</td>\n",
       "      <td>99986.0</td>\n",
       "      <td>2016.0</td>\n",
       "      <td>4</td>\n",
       "    </tr>\n",
       "    <tr>\n",
       "      <th>3</th>\n",
       "      <td>213416</td>\n",
       "      <td>174</td>\n",
       "      <td>41299</td>\n",
       "      <td>1</td>\n",
       "      <td>99986.0</td>\n",
       "      <td>2016.0</td>\n",
       "      <td>4</td>\n",
       "    </tr>\n",
       "    <tr>\n",
       "      <th>4</th>\n",
       "      <td>166289</td>\n",
       "      <td>174</td>\n",
       "      <td>40035</td>\n",
       "      <td>1</td>\n",
       "      <td>60000.0</td>\n",
       "      <td>2016.0</td>\n",
       "      <td>4</td>\n",
       "    </tr>\n",
       "  </tbody>\n",
       "</table>\n",
       "</div>"
      ],
      "text/plain": [
       "   EMPLOYER_NAME  SOC_NAME  JOB_TITLE  FULL_TIME_POSITION  PREVAILING_WAGE  \\\n",
       "0         166288       174      40035                   1          60000.0   \n",
       "1         128943       174     158791                   1          60000.0   \n",
       "2         122252       174      40035                   1          99986.0   \n",
       "3         213416       174      41299                   1          99986.0   \n",
       "4         166289       174      40035                   1          60000.0   \n",
       "\n",
       "     YEAR  state  \n",
       "0  2016.0      4  \n",
       "1  2016.0     45  \n",
       "2  2016.0      4  \n",
       "3  2016.0      4  \n",
       "4  2016.0      4  "
      ]
     },
     "execution_count": 72,
     "metadata": {},
     "output_type": "execute_result"
    }
   ],
   "source": [
    "X.head()"
   ]
  },
  {
   "cell_type": "code",
   "execution_count": 73,
   "id": "b5ad4824",
   "metadata": {},
   "outputs": [
    {
     "data": {
      "text/html": [
       "<div>\n",
       "<style scoped>\n",
       "    .dataframe tbody tr th:only-of-type {\n",
       "        vertical-align: middle;\n",
       "    }\n",
       "\n",
       "    .dataframe tbody tr th {\n",
       "        vertical-align: top;\n",
       "    }\n",
       "\n",
       "    .dataframe thead th {\n",
       "        text-align: right;\n",
       "    }\n",
       "</style>\n",
       "<table border=\"1\" class=\"dataframe\">\n",
       "  <thead>\n",
       "    <tr style=\"text-align: right;\">\n",
       "      <th></th>\n",
       "      <th>EMPLOYER_NAME</th>\n",
       "      <th>SOC_NAME</th>\n",
       "      <th>JOB_TITLE</th>\n",
       "      <th>FULL_TIME_POSITION</th>\n",
       "      <th>PREVAILING_WAGE</th>\n",
       "      <th>YEAR</th>\n",
       "      <th>state</th>\n",
       "    </tr>\n",
       "  </thead>\n",
       "  <tbody>\n",
       "    <tr>\n",
       "      <th>EMPLOYER_NAME</th>\n",
       "      <td>1.000000</td>\n",
       "      <td>-0.025058</td>\n",
       "      <td>-0.014653</td>\n",
       "      <td>-0.015807</td>\n",
       "      <td>-0.077136</td>\n",
       "      <td>-0.019203</td>\n",
       "      <td>-0.004318</td>\n",
       "    </tr>\n",
       "    <tr>\n",
       "      <th>SOC_NAME</th>\n",
       "      <td>-0.025058</td>\n",
       "      <td>1.000000</td>\n",
       "      <td>0.154091</td>\n",
       "      <td>0.024878</td>\n",
       "      <td>0.210245</td>\n",
       "      <td>0.064384</td>\n",
       "      <td>-0.008246</td>\n",
       "    </tr>\n",
       "    <tr>\n",
       "      <th>JOB_TITLE</th>\n",
       "      <td>-0.014653</td>\n",
       "      <td>0.154091</td>\n",
       "      <td>1.000000</td>\n",
       "      <td>0.054961</td>\n",
       "      <td>0.118184</td>\n",
       "      <td>0.030314</td>\n",
       "      <td>-0.044998</td>\n",
       "    </tr>\n",
       "    <tr>\n",
       "      <th>FULL_TIME_POSITION</th>\n",
       "      <td>-0.015807</td>\n",
       "      <td>0.024878</td>\n",
       "      <td>0.054961</td>\n",
       "      <td>1.000000</td>\n",
       "      <td>0.217825</td>\n",
       "      <td>-0.384190</td>\n",
       "      <td>-0.032818</td>\n",
       "    </tr>\n",
       "    <tr>\n",
       "      <th>PREVAILING_WAGE</th>\n",
       "      <td>-0.077136</td>\n",
       "      <td>0.210245</td>\n",
       "      <td>0.118184</td>\n",
       "      <td>0.217825</td>\n",
       "      <td>1.000000</td>\n",
       "      <td>0.117136</td>\n",
       "      <td>-0.087055</td>\n",
       "    </tr>\n",
       "    <tr>\n",
       "      <th>YEAR</th>\n",
       "      <td>-0.019203</td>\n",
       "      <td>0.064384</td>\n",
       "      <td>0.030314</td>\n",
       "      <td>-0.384190</td>\n",
       "      <td>0.117136</td>\n",
       "      <td>1.000000</td>\n",
       "      <td>-0.007105</td>\n",
       "    </tr>\n",
       "    <tr>\n",
       "      <th>state</th>\n",
       "      <td>-0.004318</td>\n",
       "      <td>-0.008246</td>\n",
       "      <td>-0.044998</td>\n",
       "      <td>-0.032818</td>\n",
       "      <td>-0.087055</td>\n",
       "      <td>-0.007105</td>\n",
       "      <td>1.000000</td>\n",
       "    </tr>\n",
       "  </tbody>\n",
       "</table>\n",
       "</div>"
      ],
      "text/plain": [
       "                    EMPLOYER_NAME  SOC_NAME  JOB_TITLE  FULL_TIME_POSITION  \\\n",
       "EMPLOYER_NAME            1.000000 -0.025058  -0.014653           -0.015807   \n",
       "SOC_NAME                -0.025058  1.000000   0.154091            0.024878   \n",
       "JOB_TITLE               -0.014653  0.154091   1.000000            0.054961   \n",
       "FULL_TIME_POSITION      -0.015807  0.024878   0.054961            1.000000   \n",
       "PREVAILING_WAGE         -0.077136  0.210245   0.118184            0.217825   \n",
       "YEAR                    -0.019203  0.064384   0.030314           -0.384190   \n",
       "state                   -0.004318 -0.008246  -0.044998           -0.032818   \n",
       "\n",
       "                    PREVAILING_WAGE      YEAR     state  \n",
       "EMPLOYER_NAME             -0.077136 -0.019203 -0.004318  \n",
       "SOC_NAME                   0.210245  0.064384 -0.008246  \n",
       "JOB_TITLE                  0.118184  0.030314 -0.044998  \n",
       "FULL_TIME_POSITION         0.217825 -0.384190 -0.032818  \n",
       "PREVAILING_WAGE            1.000000  0.117136 -0.087055  \n",
       "YEAR                       0.117136  1.000000 -0.007105  \n",
       "state                     -0.087055 -0.007105  1.000000  "
      ]
     },
     "execution_count": 73,
     "metadata": {},
     "output_type": "execute_result"
    }
   ],
   "source": [
    "X.corr()"
   ]
  },
  {
   "cell_type": "code",
   "execution_count": 74,
   "id": "22d912c4",
   "metadata": {},
   "outputs": [
    {
     "data": {
      "text/plain": [
       "<AxesSubplot:>"
      ]
     },
     "execution_count": 74,
     "metadata": {},
     "output_type": "execute_result"
    },
    {
     "data": {
      "image/png": "[encoded data removed]",
      "text/plain": [
       "<Figure size 864x576 with 2 Axes>"
      ]
     },
     "metadata": {},
     "output_type": "display_data"
    }
   ],
   "source": [
    "corr = X.corr()\n",
    "mask = np.array(corr)\n",
    "mask[np.tril_indices_from(mask)] = False\n",
    "fig,ax= plt.subplots()\n",
    "fig.set_size_inches(12,8)\n",
    "sns.heatmap(corr, mask=mask,vmax=.9, square=True,annot=True, cmap=\"YlGnBu\")"
   ]
  },
  {
   "cell_type": "code",
   "execution_count": 75,
   "id": "f327f43c",
   "metadata": {},
   "outputs": [
    {
     "data": {
      "text/plain": [
       "0    2615623\n",
       "1      94346\n",
       "Name: CASE_STATUS, dtype: int64"
      ]
     },
     "execution_count": 75,
     "metadata": {},
     "output_type": "execute_result"
    }
   ],
   "source": [
    "y.value_counts().loc[lambda x:x>1]    #.plot(kind=\"barh\")\n",
    "#plt.title(\"NUMBER OF APPLICATIONS\")\n",
    "#plt.show()"
   ]
  },
  {
   "cell_type": "code",
   "execution_count": 76,
   "id": "79d888dc",
   "metadata": {},
   "outputs": [
    {
     "data": {
      "text/plain": [
       "Index(['EMPLOYER_NAME', 'SOC_NAME', 'JOB_TITLE', 'FULL_TIME_POSITION',\n",
       "       'PREVAILING_WAGE', 'YEAR', 'state'],\n",
       "      dtype='object')"
      ]
     },
     "execution_count": 76,
     "metadata": {},
     "output_type": "execute_result"
    }
   ],
   "source": [
    "from sklearn.model_selection import train_test_split\n",
    "X_train, X_test, y_train, y_test = train_test_split(X, y, test_size=0.40, random_state=10)\n",
    "X_train.columns"
   ]
  },
  {
   "cell_type": "code",
   "execution_count": 77,
   "id": "d730ba30",
   "metadata": {},
   "outputs": [
    {
     "name": "stdout",
     "output_type": "stream",
     "text": [
      "EMPLOYER_NAME         0\n",
      "SOC_NAME              0\n",
      "JOB_TITLE             0\n",
      "FULL_TIME_POSITION    0\n",
      "PREVAILING_WAGE       0\n",
      "YEAR                  0\n",
      "state                 0\n",
      "dtype: int64\n"
     ]
    }
   ],
   "source": [
    "print(X_train.isnull().sum())"
   ]
  },
  {
   "cell_type": "markdown",
   "id": "e11c51b5",
   "metadata": {},
   "source": [
    "# ONE-HOT ENCODING"
   ]
  },
  {
   "cell_type": "code",
   "execution_count": 78,
   "id": "3295d7af",
   "metadata": {},
   "outputs": [],
   "source": [
    "from sklearn.preprocessing import OneHotEncoder\n",
    "X_train_encode = pd.get_dummies(X_train)\n",
    "X_test_encode = pd.get_dummies(X_test)\n",
    "x_to_pred_encode = pd.get_dummies(x_to_pred)"
   ]
  },
  {
   "cell_type": "markdown",
   "id": "3ec42d65",
   "metadata": {},
   "source": [
    "# LOGISTIC REGRESSION MODEL"
   ]
  },
  {
   "cell_type": "code",
   "execution_count": 79,
   "id": "e78a41cf",
   "metadata": {},
   "outputs": [
    {
     "name": "stdout",
     "output_type": "stream",
     "text": [
      "*Logistic Regression Model*\n",
      "[0 0 0 ... 0 0 0]\n"
     ]
    }
   ],
   "source": [
    "from sklearn.linear_model import LogisticRegression\n",
    "from sklearn import metrics\n",
    "print(\"*Logistic Regression Model*\")\n",
    "LogReg = LogisticRegression()\n",
    "LogReg.fit(X_train_encode, y_train)\n",
    "y_pred = LogReg.predict(X_test_encode)\n",
    "print(y_pred)"
   ]
  },
  {
   "cell_type": "code",
   "execution_count": 80,
   "id": "10977ab2",
   "metadata": {},
   "outputs": [
    {
     "data": {
      "text/plain": [
       "['logreg.save']"
      ]
     },
     "execution_count": 80,
     "metadata": {},
     "output_type": "execute_result"
    }
   ],
   "source": [
    "import joblib\n",
    "joblib.dump(LogReg,\"logreg.save\")"
   ]
  },
  {
   "cell_type": "code",
   "execution_count": 81,
   "id": "ef1c0564",
   "metadata": {},
   "outputs": [
    {
     "data": {
      "text/plain": [
       "array([[1046189,       0],\n",
       "       [  37799,       0]], dtype=int64)"
      ]
     },
     "execution_count": 81,
     "metadata": {},
     "output_type": "execute_result"
    }
   ],
   "source": [
    "from sklearn.metrics import confusion_matrix\n",
    "confusion_matrix = confusion_matrix(y_test, y_pred)\n",
    "confusion_matrix"
   ]
  },
  {
   "cell_type": "code",
   "execution_count": 82,
   "id": "f7cf7f56",
   "metadata": {},
   "outputs": [
    {
     "name": "stderr",
     "output_type": "stream",
     "text": [
      "D:\\Programs\\Anaconda\\lib\\site-packages\\sklearn\\metrics\\_classification.py:1245: UndefinedMetricWarning: Precision and F-score are ill-defined and being set to 0.0 in labels with no predicted samples. Use `zero_division` parameter to control this behavior.\n",
      "  _warn_prf(average, modifier, msg_start, len(result))\n",
      "D:\\Programs\\Anaconda\\lib\\site-packages\\sklearn\\metrics\\_classification.py:1245: UndefinedMetricWarning: Precision and F-score are ill-defined and being set to 0.0 in labels with no predicted samples. Use `zero_division` parameter to control this behavior.\n",
      "  _warn_prf(average, modifier, msg_start, len(result))\n"
     ]
    },
    {
     "name": "stdout",
     "output_type": "stream",
     "text": [
      "              precision    recall  f1-score   support\n",
      "\n",
      "           0       0.97      1.00      0.98   1046189\n",
      "           1       0.00      0.00      0.00     37799\n",
      "\n",
      "    accuracy                           0.97   1083988\n",
      "   macro avg       0.48      0.50      0.49   1083988\n",
      "weighted avg       0.93      0.97      0.95   1083988\n",
      "\n"
     ]
    },
    {
     "name": "stderr",
     "output_type": "stream",
     "text": [
      "D:\\Programs\\Anaconda\\lib\\site-packages\\sklearn\\metrics\\_classification.py:1245: UndefinedMetricWarning: Precision and F-score are ill-defined and being set to 0.0 in labels with no predicted samples. Use `zero_division` parameter to control this behavior.\n",
      "  _warn_prf(average, modifier, msg_start, len(result))\n"
     ]
    }
   ],
   "source": [
    "print(classification_report(y_test, y_pred))"
   ]
  },
  {
   "cell_type": "code",
   "execution_count": 83,
   "id": "285cc06d",
   "metadata": {},
   "outputs": [
    {
     "name": "stdout",
     "output_type": "stream",
     "text": [
      "[0]\n"
     ]
    }
   ],
   "source": [
    "y_predict = LogReg.predict(x_to_pred_encode)\n",
    "print(y_predict)"
   ]
  },
  {
   "cell_type": "code",
   "execution_count": 84,
   "id": "af992108",
   "metadata": {},
   "outputs": [
    {
     "data": {
      "text/plain": [
       "array([[1046189,       0],\n",
       "       [  37799,       0]], dtype=int64)"
      ]
     },
     "execution_count": 84,
     "metadata": {},
     "output_type": "execute_result"
    }
   ],
   "source": [
    "from sklearn.metrics import confusion_matrix\n",
    "confusion_matrix = confusion_matrix(y_test, y_pred)\n",
    "confusion_matrix"
   ]
  },
  {
   "cell_type": "code",
   "execution_count": 85,
   "id": "13e0c3f9",
   "metadata": {},
   "outputs": [
    {
     "name": "stderr",
     "output_type": "stream",
     "text": [
      "D:\\Programs\\Anaconda\\lib\\site-packages\\sklearn\\metrics\\_classification.py:1245: UndefinedMetricWarning: Precision and F-score are ill-defined and being set to 0.0 in labels with no predicted samples. Use `zero_division` parameter to control this behavior.\n",
      "  _warn_prf(average, modifier, msg_start, len(result))\n",
      "D:\\Programs\\Anaconda\\lib\\site-packages\\sklearn\\metrics\\_classification.py:1245: UndefinedMetricWarning: Precision and F-score are ill-defined and being set to 0.0 in labels with no predicted samples. Use `zero_division` parameter to control this behavior.\n",
      "  _warn_prf(average, modifier, msg_start, len(result))\n"
     ]
    },
    {
     "name": "stdout",
     "output_type": "stream",
     "text": [
      "              precision    recall  f1-score   support\n",
      "\n",
      "           0       0.97      1.00      0.98   1046189\n",
      "           1       0.00      0.00      0.00     37799\n",
      "\n",
      "    accuracy                           0.97   1083988\n",
      "   macro avg       0.48      0.50      0.49   1083988\n",
      "weighted avg       0.93      0.97      0.95   1083988\n",
      "\n"
     ]
    },
    {
     "name": "stderr",
     "output_type": "stream",
     "text": [
      "D:\\Programs\\Anaconda\\lib\\site-packages\\sklearn\\metrics\\_classification.py:1245: UndefinedMetricWarning: Precision and F-score are ill-defined and being set to 0.0 in labels with no predicted samples. Use `zero_division` parameter to control this behavior.\n",
      "  _warn_prf(average, modifier, msg_start, len(result))\n"
     ]
    }
   ],
   "source": [
    "from sklearn.metrics import classification_report\n",
    "print(classification_report(y_test, y_pred))"
   ]
  },
  {
   "cell_type": "code",
   "execution_count": 86,
   "id": "e615dfc6",
   "metadata": {},
   "outputs": [
    {
     "data": {
      "text/plain": [
       "0.9651296877825216"
      ]
     },
     "execution_count": 86,
     "metadata": {},
     "output_type": "execute_result"
    }
   ],
   "source": [
    "from sklearn.metrics import accuracy_score\n",
    "accuracy_score(y_test,y_pred)"
   ]
  },
  {
   "cell_type": "markdown",
   "id": "9e0add15",
   "metadata": {},
   "source": [
    "# DECISION TREE MODEL"
   ]
  },
  {
   "cell_type": "code",
   "execution_count": 87,
   "id": "d82bdf0c",
   "metadata": {},
   "outputs": [
    {
     "name": "stdout",
     "output_type": "stream",
     "text": [
      "[0 0 0 ... 0 0 1]\n"
     ]
    }
   ],
   "source": [
    "from sklearn import tree\n",
    "from sklearn.metrics import roc_curve, roc_auc_score\n",
    "from matplotlib import pyplot as plt\n",
    "\n",
    "model = tree.DecisionTreeClassifier()\n",
    "model.fit(X_train_encode, y_train)\n",
    "predictions = model.predict_proba(X_test_encode)\n",
    "y_pred_dt = model.predict(X_test_encode) \n",
    "print(y_pred_dt)"
   ]
  },
  {
   "cell_type": "code",
   "execution_count": 88,
   "id": "53569589",
   "metadata": {},
   "outputs": [
    {
     "data": {
      "text/plain": [
       "array([[1015311,   30878],\n",
       "       [  32546,    5253]], dtype=int64)"
      ]
     },
     "execution_count": 88,
     "metadata": {},
     "output_type": "execute_result"
    }
   ],
   "source": [
    "\n",
    "from sklearn.metrics import confusion_matrix\n",
    "confusion_matrix = confusion_matrix(y_test, y_pred_dt)\n",
    "confusion_matrix"
   ]
  },
  {
   "cell_type": "code",
   "execution_count": 89,
   "id": "980bb232",
   "metadata": {},
   "outputs": [
    {
     "name": "stdout",
     "output_type": "stream",
     "text": [
      "              precision    recall  f1-score   support\n",
      "\n",
      "           0       0.97      0.97      0.97   1046189\n",
      "           1       0.15      0.14      0.14     37799\n",
      "\n",
      "    accuracy                           0.94   1083988\n",
      "   macro avg       0.56      0.55      0.56   1083988\n",
      "weighted avg       0.94      0.94      0.94   1083988\n",
      "\n"
     ]
    }
   ],
   "source": [
    "print(classification_report(y_test, y_pred_dt))"
   ]
  },
  {
   "cell_type": "code",
   "execution_count": 90,
   "id": "096d8cd3",
   "metadata": {},
   "outputs": [
    {
     "data": {
      "text/plain": [
       "0.94149012719698"
      ]
     },
     "execution_count": 90,
     "metadata": {},
     "output_type": "execute_result"
    }
   ],
   "source": [
    "from sklearn.metrics import accuracy_score\n",
    "accuracy_score(y_test,y_pred_dt)"
   ]
  },
  {
   "cell_type": "code",
   "execution_count": 91,
   "id": "f01019d3",
   "metadata": {},
   "outputs": [],
   "source": [
    "y_pred_dt = model.predict(x_to_pred_encode) "
   ]
  },
  {
   "cell_type": "code",
   "execution_count": 92,
   "id": "0611ec32",
   "metadata": {},
   "outputs": [
    {
     "data": {
      "text/plain": [
       "array([0])"
      ]
     },
     "execution_count": 92,
     "metadata": {},
     "output_type": "execute_result"
    }
   ],
   "source": [
    "y_pred_dt"
   ]
  },
  {
   "cell_type": "markdown",
   "id": "6a5f40f4",
   "metadata": {},
   "source": [
    "# OUTPUT OF LOGISTIC REGRESSION"
   ]
  },
  {
   "cell_type": "code",
   "execution_count": 93,
   "id": "ce6a85e9",
   "metadata": {},
   "outputs": [
    {
     "name": "stdout",
     "output_type": "stream",
     "text": [
      "certified\n"
     ]
    }
   ],
   "source": [
    "if(y_predict==0):\n",
    "    print(\"certified\")\n",
    "else:\n",
    "    print(\"denied\")"
   ]
  },
  {
   "cell_type": "markdown",
   "id": "ea34356b",
   "metadata": {},
   "source": [
    "# OUTPUT OF DECISION TREE"
   ]
  },
  {
   "cell_type": "code",
   "execution_count": 94,
   "id": "cce8856f",
   "metadata": {},
   "outputs": [
    {
     "name": "stdout",
     "output_type": "stream",
     "text": [
      "certified\n"
     ]
    }
   ],
   "source": [
    "if(y_pred_dt==0):\n",
    "    print(\"certified\")\n",
    "else:\n",
    "    print(\"denied\")"
   ]
  },
  {
   "cell_type": "code",
   "execution_count": null,
   "id": "3561b20b",
   "metadata": {},
   "outputs": [],
   "source": []
  }
 ],
 "metadata": {
  "kernelspec": {
   "display_name": "Python 3",
   "language": "python",
   "name": "python3"
  },
  "language_info": {
   "codemirror_mode": {
    "name": "ipython",
    "version": 3
   },
   "file_extension": ".py",
   "mimetype": "text/x-python",
   "name": "python",
   "nbconvert_exporter": "python",
   "pygments_lexer": "ipython3",
   "version": "3.8.8"
  }
 },
 "nbformat": 4,
 "nbformat_minor": 5
}
